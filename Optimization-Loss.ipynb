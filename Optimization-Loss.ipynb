{
 "cells": [
  {
   "cell_type": "markdown",
   "metadata": {
    "deletable": false,
    "editable": false,
    "hideCode": true,
    "hidePrompt": true,
    "nbgrader": {
     "cell_type": "markdown",
     "checksum": "cb87a44fbc32e7e7856657131a2fb56e",
     "grade": false,
     "grade_id": "cell-cd89b3609b7036f5",
     "locked": true,
     "schema_version": 3,
     "solution": false
    }
   },
   "source": [
    "## Week 4: Optimization/Canonical Formulation/Loss Function/Maximum Likelihood\n",
    "\n",
    "### Version 1.1\n",
    "\n",
    "This assignment is designed to help you gain some practical knowledge of how optimization works. You should be able to describe how optimization works in everyday life, mathematics, and data science. At the end of this assignment you should be able to identify canonical formulations for linear and logistic regression and express the intuition of a loss function and how it related to optimization. Please read the directions carefully, as we want to avoid submissions that are marked incorrect due to formatting mistakes. You will be using sympy, numpy, and scipy for this assignment."
   ]
  },
  {
   "cell_type": "markdown",
   "metadata": {},
   "source": [
    "Please enter your name: \"\""
   ]
  },
  {
   "cell_type": "markdown",
   "metadata": {
    "deletable": false,
    "editable": false,
    "nbgrader": {
     "cell_type": "markdown",
     "checksum": "695e1b0109b5d732ad437b2c307ca819",
     "grade": false,
     "grade_id": "cell-6c82293be9bb515e",
     "locked": true,
     "schema_version": 3,
     "solution": false
    }
   },
   "source": [
    "# Part1: Optimization Problem "
   ]
  },
  {
   "cell_type": "markdown",
   "metadata": {
    "deletable": false,
    "editable": false,
    "hideCode": false,
    "hidePrompt": false,
    "nbgrader": {
     "cell_type": "markdown",
     "checksum": "5889a7a120ca59c898500eb28c22a010",
     "grade": false,
     "grade_id": "cell-5295452ac4f5f09e",
     "locked": true,
     "schema_version": 3,
     "solution": false
    }
   },
   "source": [
    "<b>1.</b> Below is the function f(x) that you are trying to minimize. "
   ]
  },
  {
   "cell_type": "markdown",
   "metadata": {
    "deletable": false,
    "editable": false,
    "hideCode": false,
    "hidePrompt": false,
    "nbgrader": {
     "cell_type": "markdown",
     "checksum": "93f07a4f654be5b83b60ae4e38db3604",
     "grade": false,
     "grade_id": "cell-6bf0f216e438e97f",
     "locked": true,
     "schema_version": 3,
     "solution": false
    }
   },
   "source": [
    "![function plotted on xy axis graph](assets/optimization.png)"
   ]
  },
  {
   "cell_type": "markdown",
   "metadata": {
    "deletable": false,
    "editable": false,
    "nbgrader": {
     "cell_type": "markdown",
     "checksum": "4f6f055f9ecdc54c7ba57d3008c3cb86",
     "grade": false,
     "grade_id": "cell-f28c3026f7239d9e",
     "locked": true,
     "schema_version": 3,
     "solution": false
    }
   },
   "source": [
    "<strong>1.1</strong> \\[1 pt\\] Where is the global maximum?\n",
    "\n",
    "Please store the answer in the form of a single-character string named <strong>ANS11</strong>. "
   ]
  },
  {
   "cell_type": "code",
   "execution_count": null,
   "metadata": {
    "deletable": false,
    "nbgrader": {
     "cell_type": "code",
     "checksum": "af9c46c0934a35f2b9a317e239d582fa",
     "grade": false,
     "grade_id": "cell-a1d3d6cb1d8abe18",
     "locked": false,
     "schema_version": 3,
     "solution": true
    }
   },
   "outputs": [],
   "source": [
    "ANS11=\"A\"\n"
   ]
  },
  {
   "cell_type": "code",
   "execution_count": null,
   "metadata": {
    "deletable": false,
    "editable": false,
    "nbgrader": {
     "cell_type": "code",
     "checksum": "9de7a55a0392a1be1d0a6c98830449d0",
     "grade": true,
     "grade_id": "cell-77b4b2fa40590764",
     "locked": true,
     "points": 1,
     "schema_version": 3,
     "solution": false
    }
   },
   "outputs": [],
   "source": [
    "assert type(ANS11) == str, \"Problem 1.1, testing ANS11, type of value stored in variable does not match the expected type. Expecting String.\""
   ]
  },
  {
   "cell_type": "markdown",
   "metadata": {
    "deletable": false,
    "editable": false,
    "nbgrader": {
     "cell_type": "markdown",
     "checksum": "6af84849b9959ec9a8eefc69ee2aa75e",
     "grade": false,
     "grade_id": "cell-d663e9c42137be84",
     "locked": true,
     "schema_version": 3,
     "solution": false
    }
   },
   "source": [
    "<strong>1.2</strong> \\[1 pt\\] Where is the global minimum?\n",
    "\n",
    "Please store the answer in the form of a single-character string named <strong>ANS12</strong>."
   ]
  },
  {
   "cell_type": "code",
   "execution_count": null,
   "metadata": {
    "deletable": false,
    "nbgrader": {
     "cell_type": "code",
     "checksum": "1845b438ce54c38805517afc2170a6a4",
     "grade": false,
     "grade_id": "cell-bfb0cb894cd29348",
     "locked": false,
     "schema_version": 3,
     "solution": true
    }
   },
   "outputs": [],
   "source": [
    "ANS12= \"F\"\n"
   ]
  },
  {
   "cell_type": "code",
   "execution_count": null,
   "metadata": {
    "deletable": false,
    "editable": false,
    "nbgrader": {
     "cell_type": "code",
     "checksum": "44e04edb11ea9e0415159572cd3f1fa5",
     "grade": true,
     "grade_id": "cell-6ed48661279a0c30",
     "locked": true,
     "points": 1,
     "schema_version": 3,
     "solution": false
    }
   },
   "outputs": [],
   "source": [
    "assert type(ANS12) == str,  \"Problem 1.2, testing ANS12, type of value stored in variable does not match the expected type. Expecting String.\""
   ]
  },
  {
   "cell_type": "markdown",
   "metadata": {
    "deletable": false,
    "editable": false,
    "hideCode": false,
    "hidePrompt": false,
    "nbgrader": {
     "cell_type": "markdown",
     "checksum": "a83d37f721dd2b06949fc82767e4cc73",
     "grade": false,
     "grade_id": "cell-d56881905ea9dc17",
     "locked": true,
     "schema_version": 3,
     "solution": false
    }
   },
   "source": [
    "## Part2: Linear Regression Implementation on Data \n",
    "\n",
    "In this problem, you will be implementing linear regression models in scikit-learn library, as well as ols implementation in the statsmodels library.  \n",
    "\n",
    "Difference between Statsmodels and Scikit-learn libraries: \n",
    "\n",
    "Scikit-learn: Simple and efficient tools for data mining and data analysis\n",
    "\n",
    "Statsmodels: a Python module that provides classes and functions for the estimation of many different statistical models, as well as for conducting statistical tests, and statistical data exploration."
   ]
  },
  {
   "cell_type": "markdown",
   "metadata": {
    "deletable": false,
    "editable": false,
    "nbgrader": {
     "cell_type": "markdown",
     "checksum": "f78cb29196a33d3544e2223be849aa9b",
     "grade": false,
     "grade_id": "cell-661a6ff69500929f",
     "locked": true,
     "schema_version": 3,
     "solution": false
    }
   },
   "source": [
    "Sources:\n",
    "<ul>\n",
    "    <li>https://towardsdatascience.com/introduction-to-linear-regression-in-python-c12a072bedf0</li>\n",
    "    <li>https://towardsdatascience.com/linear-regression-simplified-ordinary-least-square-vs-gradient-descent-48145de2cf76</li>\n",
    "    <li>https://www.statsmodels.org/stable/index.html</li>\n",
    "    <li>https://scikit-learn.org/stable/</li>\n",
    "</ul>"
   ]
  },
  {
   "cell_type": "markdown",
   "metadata": {
    "deletable": false,
    "editable": false,
    "hideCode": false,
    "hidePrompt": false,
    "nbgrader": {
     "cell_type": "markdown",
     "checksum": "59cb88429bb392d1dc57289a259e394e",
     "grade": false,
     "grade_id": "cell-c5f82e3ee4c9223b",
     "locked": true,
     "schema_version": 3,
     "solution": false
    }
   },
   "source": [
    "### 2. Simple Regression with Scikit-learn "
   ]
  },
  {
   "cell_type": "code",
   "execution_count": 2,
   "metadata": {
    "hideCode": false,
    "hidePrompt": false
   },
   "outputs": [],
   "source": [
    "import numpy as np\n",
    "from sklearn.linear_model import LinearRegression\n",
    "from sklearn.metrics import mean_squared_error\n",
    "import pandas as pd"
   ]
  },
  {
   "cell_type": "code",
   "execution_count": 3,
   "metadata": {
    "hideCode": false,
    "hidePrompt": false
   },
   "outputs": [],
   "source": [
    "#Let's read in nyc flight csv file \n",
    "nyc = pd.read_csv('assets/nyc.csv')"
   ]
  },
  {
   "cell_type": "code",
   "execution_count": 4,
   "metadata": {
    "hideCode": false,
    "hidePrompt": false
   },
   "outputs": [
    {
     "data": {
      "text/html": [
       "<div>\n",
       "<style scoped>\n",
       "    .dataframe tbody tr th:only-of-type {\n",
       "        vertical-align: middle;\n",
       "    }\n",
       "\n",
       "    .dataframe tbody tr th {\n",
       "        vertical-align: top;\n",
       "    }\n",
       "\n",
       "    .dataframe thead th {\n",
       "        text-align: right;\n",
       "    }\n",
       "</style>\n",
       "<table border=\"1\" class=\"dataframe\">\n",
       "  <thead>\n",
       "    <tr style=\"text-align: right;\">\n",
       "      <th></th>\n",
       "      <th>Unnamed: 0</th>\n",
       "      <th>X</th>\n",
       "      <th>year</th>\n",
       "      <th>month</th>\n",
       "      <th>day</th>\n",
       "      <th>dep_time</th>\n",
       "      <th>dep_delay</th>\n",
       "      <th>arr_time</th>\n",
       "      <th>arr_delay</th>\n",
       "      <th>carrier</th>\n",
       "      <th>tailnum</th>\n",
       "      <th>flight</th>\n",
       "      <th>origin</th>\n",
       "      <th>dest</th>\n",
       "      <th>air_time</th>\n",
       "      <th>distance</th>\n",
       "      <th>hour</th>\n",
       "      <th>minute</th>\n",
       "    </tr>\n",
       "  </thead>\n",
       "  <tbody>\n",
       "    <tr>\n",
       "      <th>0</th>\n",
       "      <td>1</td>\n",
       "      <td>1</td>\n",
       "      <td>2013</td>\n",
       "      <td>1</td>\n",
       "      <td>1</td>\n",
       "      <td>517.0</td>\n",
       "      <td>2.0</td>\n",
       "      <td>830.0</td>\n",
       "      <td>11.0</td>\n",
       "      <td>UA</td>\n",
       "      <td>N14228</td>\n",
       "      <td>1545</td>\n",
       "      <td>EWR</td>\n",
       "      <td>IAH</td>\n",
       "      <td>227.0</td>\n",
       "      <td>1400</td>\n",
       "      <td>5.0</td>\n",
       "      <td>17.0</td>\n",
       "    </tr>\n",
       "    <tr>\n",
       "      <th>1</th>\n",
       "      <td>2</td>\n",
       "      <td>2</td>\n",
       "      <td>2013</td>\n",
       "      <td>1</td>\n",
       "      <td>1</td>\n",
       "      <td>533.0</td>\n",
       "      <td>4.0</td>\n",
       "      <td>850.0</td>\n",
       "      <td>20.0</td>\n",
       "      <td>UA</td>\n",
       "      <td>N24211</td>\n",
       "      <td>1714</td>\n",
       "      <td>LGA</td>\n",
       "      <td>IAH</td>\n",
       "      <td>227.0</td>\n",
       "      <td>1416</td>\n",
       "      <td>5.0</td>\n",
       "      <td>33.0</td>\n",
       "    </tr>\n",
       "    <tr>\n",
       "      <th>2</th>\n",
       "      <td>3</td>\n",
       "      <td>3</td>\n",
       "      <td>2013</td>\n",
       "      <td>1</td>\n",
       "      <td>1</td>\n",
       "      <td>542.0</td>\n",
       "      <td>2.0</td>\n",
       "      <td>923.0</td>\n",
       "      <td>33.0</td>\n",
       "      <td>AA</td>\n",
       "      <td>N619AA</td>\n",
       "      <td>1141</td>\n",
       "      <td>JFK</td>\n",
       "      <td>MIA</td>\n",
       "      <td>160.0</td>\n",
       "      <td>1089</td>\n",
       "      <td>5.0</td>\n",
       "      <td>42.0</td>\n",
       "    </tr>\n",
       "    <tr>\n",
       "      <th>3</th>\n",
       "      <td>4</td>\n",
       "      <td>4</td>\n",
       "      <td>2013</td>\n",
       "      <td>1</td>\n",
       "      <td>1</td>\n",
       "      <td>544.0</td>\n",
       "      <td>-1.0</td>\n",
       "      <td>1004.0</td>\n",
       "      <td>-18.0</td>\n",
       "      <td>B6</td>\n",
       "      <td>N804JB</td>\n",
       "      <td>725</td>\n",
       "      <td>JFK</td>\n",
       "      <td>BQN</td>\n",
       "      <td>183.0</td>\n",
       "      <td>1576</td>\n",
       "      <td>5.0</td>\n",
       "      <td>44.0</td>\n",
       "    </tr>\n",
       "    <tr>\n",
       "      <th>4</th>\n",
       "      <td>5</td>\n",
       "      <td>5</td>\n",
       "      <td>2013</td>\n",
       "      <td>1</td>\n",
       "      <td>1</td>\n",
       "      <td>554.0</td>\n",
       "      <td>-6.0</td>\n",
       "      <td>812.0</td>\n",
       "      <td>-25.0</td>\n",
       "      <td>DL</td>\n",
       "      <td>N668DN</td>\n",
       "      <td>461</td>\n",
       "      <td>LGA</td>\n",
       "      <td>ATL</td>\n",
       "      <td>116.0</td>\n",
       "      <td>762</td>\n",
       "      <td>5.0</td>\n",
       "      <td>54.0</td>\n",
       "    </tr>\n",
       "  </tbody>\n",
       "</table>\n",
       "</div>"
      ],
      "text/plain": [
       "   Unnamed: 0  X  year  month  day  dep_time  dep_delay  arr_time  arr_delay  \\\n",
       "0           1  1  2013      1    1     517.0        2.0     830.0       11.0   \n",
       "1           2  2  2013      1    1     533.0        4.0     850.0       20.0   \n",
       "2           3  3  2013      1    1     542.0        2.0     923.0       33.0   \n",
       "3           4  4  2013      1    1     544.0       -1.0    1004.0      -18.0   \n",
       "4           5  5  2013      1    1     554.0       -6.0     812.0      -25.0   \n",
       "\n",
       "  carrier tailnum  flight origin dest  air_time  distance  hour  minute  \n",
       "0      UA  N14228    1545    EWR  IAH     227.0      1400   5.0    17.0  \n",
       "1      UA  N24211    1714    LGA  IAH     227.0      1416   5.0    33.0  \n",
       "2      AA  N619AA    1141    JFK  MIA     160.0      1089   5.0    42.0  \n",
       "3      B6  N804JB     725    JFK  BQN     183.0      1576   5.0    44.0  \n",
       "4      DL  N668DN     461    LGA  ATL     116.0       762   5.0    54.0  "
      ]
     },
     "execution_count": 4,
     "metadata": {},
     "output_type": "execute_result"
    }
   ],
   "source": [
    "##Let's explore what is inside the data \n",
    "nyc.head()"
   ]
  },
  {
   "cell_type": "code",
   "execution_count": 5,
   "metadata": {
    "hideCode": false,
    "hidePrompt": false
   },
   "outputs": [],
   "source": [
    "## Data Cleaning: Drop all null values\n",
    "nyc=nyc.dropna()"
   ]
  },
  {
   "cell_type": "code",
   "execution_count": 6,
   "metadata": {
    "hideCode": false,
    "hidePrompt": false
   },
   "outputs": [],
   "source": [
    "## Change datatype from dataframe to array \n",
    "x = nyc['distance'].values.reshape((-1, 1))"
   ]
  },
  {
   "cell_type": "code",
   "execution_count": 7,
   "metadata": {
    "hideCode": false,
    "hidePrompt": false
   },
   "outputs": [],
   "source": [
    "## model building \n",
    "model = LinearRegression().fit(x, nyc['arr_delay'])"
   ]
  },
  {
   "cell_type": "code",
   "execution_count": 8,
   "metadata": {
    "hideCode": false,
    "hidePrompt": false
   },
   "outputs": [
    {
     "name": "stdout",
     "output_type": "stream",
     "text": [
      "slope: [-0.00483183]\n"
     ]
    }
   ],
   "source": [
    "## Show the slope the model \n",
    "print('slope:', model.coef_)"
   ]
  },
  {
   "cell_type": "code",
   "execution_count": 9,
   "metadata": {
    "hideCode": false,
    "hidePrompt": false
   },
   "outputs": [
    {
     "name": "stdout",
     "output_type": "stream",
     "text": [
      "intercept: 11.027244871764514\n"
     ]
    }
   ],
   "source": [
    "## Show the intercept of the model \n",
    "print('intercept:', model.intercept_)"
   ]
  },
  {
   "cell_type": "code",
   "execution_count": null,
   "metadata": {},
   "outputs": [],
   "source": [
    "## predict arr_delay time when distance is 20\n",
    "model.predict([[20]])"
   ]
  },
  {
   "cell_type": "markdown",
   "metadata": {
    "deletable": false,
    "editable": false,
    "nbgrader": {
     "cell_type": "markdown",
     "checksum": "b52c9d6de20d553c10d46825a5ad249e",
     "grade": false,
     "grade_id": "cell-d154e6ff6a56e306",
     "locked": true,
     "schema_version": 3,
     "solution": false
    }
   },
   "source": [
    "#### An example of  simple linear regression with Scikit-learn\n",
    "\n",
    "Please apply simple linear regression in Scikit-learn to build a model called <strong>arr_dep_model</strong> to get the relationship between arrival delay(dependent variable) and departure delay(independent variable).  This will not be directly tested, but you will need this for future questions."
   ]
  },
  {
   "cell_type": "code",
   "execution_count": 10,
   "metadata": {
    "deletable": false,
    "nbgrader": {
     "cell_type": "code",
     "checksum": "98e21e1c4804bc8f869da815c7396331",
     "grade": false,
     "grade_id": "cell-63af99c754c53dfe",
     "locked": false,
     "schema_version": 3,
     "solution": true
    }
   },
   "outputs": [],
   "source": [
    "x2 = nyc['dep_delay'].values.reshape((-1, 1))\n",
    "arr_dep_model = LinearRegression().fit(x2,nyc['arr_delay'])"
   ]
  },
  {
   "cell_type": "markdown",
   "metadata": {
    "deletable": false,
    "editable": false,
    "nbgrader": {
     "cell_type": "markdown",
     "checksum": "259d1053b1ae705697c0924d3f106c87",
     "grade": false,
     "grade_id": "cell-677de4bc8e877667",
     "locked": true,
     "schema_version": 3,
     "solution": false
    }
   },
   "source": [
    "<strong>2.1</strong> \\[1 pt\\] What is the slope of the arr_dep_model?\n",
    "Please store the answer into variable <strong>ANS21</strong> as a float."
   ]
  },
  {
   "cell_type": "code",
   "execution_count": 13,
   "metadata": {
    "deletable": false,
    "nbgrader": {
     "cell_type": "code",
     "checksum": "c846b09c0dec5e1d828474c8f58dd9ce",
     "grade": false,
     "grade_id": "cell-d0028fa6c1892682",
     "locked": false,
     "schema_version": 3,
     "solution": true
    }
   },
   "outputs": [
    {
     "data": {
      "text/plain": [
       "1.020178295133761"
      ]
     },
     "execution_count": 13,
     "metadata": {},
     "output_type": "execute_result"
    }
   ],
   "source": [
    "ANS21= arr_dep_model.coef_[0]"
   ]
  },
  {
   "cell_type": "code",
   "execution_count": 12,
   "metadata": {
    "deletable": false,
    "editable": false,
    "nbgrader": {
     "cell_type": "code",
     "checksum": "7020d4456d438bb01cd8bf9747b5cd59",
     "grade": true,
     "grade_id": "cell-b939d45229489d82",
     "locked": true,
     "points": 1,
     "schema_version": 3,
     "solution": false
    }
   },
   "outputs": [],
   "source": [
    "import numbers\n",
    "assert isinstance(ANS21, numbers.Number),  \"Problem 2.1, testing ANS21, type of value stored in variable does not match the expected type. Expecting a number\""
   ]
  },
  {
   "cell_type": "markdown",
   "metadata": {
    "deletable": false,
    "editable": false,
    "nbgrader": {
     "cell_type": "markdown",
     "checksum": "ef3bfac77629e8811f3a4d7f6ac8ab77",
     "grade": false,
     "grade_id": "cell-3d9fd35deb4124ce",
     "locked": true,
     "schema_version": 3,
     "solution": false
    }
   },
   "source": [
    "<strong>2.2</strong> \\[1 pt\\] What is the intercept of the arr_dep_model?\n",
    "\n",
    "Please store the answer into variable <strong>ANS22</strong>.  "
   ]
  },
  {
   "cell_type": "code",
   "execution_count": 17,
   "metadata": {
    "deletable": false,
    "nbgrader": {
     "cell_type": "code",
     "checksum": "828065b246f4f679ba5bbefeb93d11a7",
     "grade": false,
     "grade_id": "cell-c4775feaa5f92215",
     "locked": false,
     "schema_version": 3,
     "solution": true
    }
   },
   "outputs": [],
   "source": [
    "ANS22 = arr_dep_model.intercept_"
   ]
  },
  {
   "cell_type": "code",
   "execution_count": 18,
   "metadata": {
    "deletable": false,
    "editable": false,
    "nbgrader": {
     "cell_type": "code",
     "checksum": "19e6d3326788802de9cb418a5972bb07",
     "grade": true,
     "grade_id": "cell-79b46debbe595a6c",
     "locked": true,
     "points": 1,
     "schema_version": 3,
     "solution": false
    }
   },
   "outputs": [],
   "source": [
    "assert isinstance(ANS22, numbers.Number), \"Problem 2.2, testing ANS22, type of value stored in variable does not match the expected type. Expecting a number.\""
   ]
  },
  {
   "cell_type": "markdown",
   "metadata": {
    "deletable": false,
    "editable": false,
    "nbgrader": {
     "cell_type": "markdown",
     "checksum": "e027222fcde5da9c4ebf86189a4f543e",
     "grade": false,
     "grade_id": "cell-02f1092dfbfeec11",
     "locked": true,
     "schema_version": 3,
     "solution": false
    }
   },
   "source": [
    "<strong>2.3</strong> \\[1 pt\\] Put the answers from 2.1 and 2.2 into slope-intercept form into a variable called <strong>ANS23</strong>. Store the equation as a string that is valid python code.  Omit the \"Y=/f(x)=\". Use a lower case “x” as the representation of the independent variable. For example: 27.003 * x + 40.221.  You may round numbers to the nearest thousandth.  "
   ]
  },
  {
   "cell_type": "code",
   "execution_count": 19,
   "metadata": {
    "deletable": false,
    "nbgrader": {
     "cell_type": "code",
     "checksum": "e1a7c9eb9cabb5a07824f1aa8bcbe816",
     "grade": false,
     "grade_id": "cell-ddca5c199029de49",
     "locked": false,
     "schema_version": 3,
     "solution": true
    }
   },
   "outputs": [],
   "source": [
    "ANS23 = \"{} * x + {}\".format(round(ANS21,3),round(ANS22,3))"
   ]
  },
  {
   "cell_type": "code",
   "execution_count": 20,
   "metadata": {
    "deletable": false,
    "editable": false,
    "nbgrader": {
     "cell_type": "code",
     "checksum": "9839ad67f053ae569e064814b49bb2e5",
     "grade": true,
     "grade_id": "cell-31b3c2b2637f2846",
     "locked": true,
     "points": 1,
     "schema_version": 3,
     "solution": false
    }
   },
   "outputs": [],
   "source": [
    "#hidden tests for problem 2.3 are within this cell\n",
    "assert type(ANS23) == str, \"Problem 2.3, testing ANS23, type of value stored in variable does not match the expected type. Expecting String\""
   ]
  },
  {
   "cell_type": "markdown",
   "metadata": {
    "deletable": false,
    "editable": false,
    "nbgrader": {
     "cell_type": "markdown",
     "checksum": "f4090b0b76019a95981e9759d88e1d46",
     "grade": false,
     "grade_id": "cell-6323069579162e7f",
     "locked": true,
     "schema_version": 3,
     "solution": false
    }
   },
   "source": [
    "<strong>2.4</strong> \\[1 pt\\] If a flight’s departure is delayed for 15 minutes, what is its predicted arrival delay? Please store the answer into variable <strong>ANS24</strong>. Your answer should be a number.  "
   ]
  },
  {
   "cell_type": "code",
   "execution_count": 22,
   "metadata": {
    "deletable": false,
    "nbgrader": {
     "cell_type": "code",
     "checksum": "d9744cb675c0ccf3954b39c4a86794ea",
     "grade": false,
     "grade_id": "cell-47b7b800e6d96caa",
     "locked": false,
     "schema_version": 3,
     "solution": true
    }
   },
   "outputs": [],
   "source": [
    "ANS24 = ANS21 * 15.0 + ANS22\n"
   ]
  },
  {
   "cell_type": "code",
   "execution_count": null,
   "metadata": {
    "deletable": false,
    "editable": false,
    "nbgrader": {
     "cell_type": "code",
     "checksum": "365681bb8550461b712ab6d971e1bc65",
     "grade": true,
     "grade_id": "cell-24dfebf9884d9325",
     "locked": true,
     "points": 1,
     "schema_version": 3,
     "solution": false
    }
   },
   "outputs": [],
   "source": [
    "assert isinstance(ANS24, numbers.Number),  \"Problem 2.4, testing ANS24, type of value stored in variable does not match the expected type. Expecting Float\""
   ]
  },
  {
   "cell_type": "markdown",
   "metadata": {
    "deletable": false,
    "editable": false,
    "nbgrader": {
     "cell_type": "markdown",
     "checksum": "acd8485503c9f04dae3aa0a334231360",
     "grade": false,
     "grade_id": "cell-d82497d7c95484f6",
     "locked": true,
     "schema_version": 3,
     "solution": false
    }
   },
   "source": [
    "### 3. Multiple  Regression with Scikit-learn\n",
    "We are going to run through an example of using scikit-learn to do a multiple linear regression model. \n",
    "\n",
    "**Begin example:**"
   ]
  },
  {
   "cell_type": "code",
   "execution_count": 23,
   "metadata": {},
   "outputs": [],
   "source": [
    "# Build linear regression model using TV and Radio as predictors\n",
    "# Split data into predictors X and output Y\n",
    "predictors = ['dep_delay', 'distance']\n",
    "X = nyc[predictors]\n",
    "y = nyc['arr_delay']\n",
    "\n",
    "# Initialise and fit model\n",
    "lm = LinearRegression()\n",
    "model = lm.fit(X, y)"
   ]
  },
  {
   "cell_type": "code",
   "execution_count": 24,
   "metadata": {},
   "outputs": [
    {
     "name": "stdout",
     "output_type": "stream",
     "text": [
      "intercept = -1.4987042957768262\n",
      "coefficient = [ 1.01791457 -0.00250182]\n"
     ]
    }
   ],
   "source": [
    "print(f'intercept = {model.intercept_}')\n",
    "print(f'coefficient = {model.coef_}')"
   ]
  },
  {
   "cell_type": "code",
   "execution_count": 25,
   "metadata": {},
   "outputs": [
    {
     "data": {
      "text/plain": [
       "array([ -2.96542015,  -0.9696201 ,  -2.1873548 , ..., 260.29482685,\n",
       "        90.42100499, 179.45209055])"
      ]
     },
     "execution_count": 25,
     "metadata": {},
     "output_type": "execute_result"
    }
   ],
   "source": [
    "model.predict(X)"
   ]
  },
  {
   "cell_type": "code",
   "execution_count": 26,
   "metadata": {},
   "outputs": [
    {
     "name": "stdout",
     "output_type": "stream",
     "text": [
      "[28.53836913]\n"
     ]
    }
   ],
   "source": [
    "new_X = [[30, 200]]\n",
    "print(model.predict(new_X))"
   ]
  },
  {
   "cell_type": "markdown",
   "metadata": {
    "deletable": false,
    "editable": false,
    "nbgrader": {
     "cell_type": "markdown",
     "checksum": "0e72eb7c4dc314a142bbec06f82d35c8",
     "grade": false,
     "grade_id": "cell-677f253422f1d612",
     "locked": true,
     "schema_version": 3,
     "solution": false
    }
   },
   "source": [
    "**Example end**\n",
    "\n",
    "Now, it is your turn! \n",
    "\n",
    "Please apply multiple linear regression in Scikit-learn to build a model called arr_del_model to see how air_time and distance influence arrival delays. You will use the results from this model to answer questions 3.1 - 3.4."
   ]
  },
  {
   "cell_type": "code",
   "execution_count": 27,
   "metadata": {
    "deletable": false,
    "nbgrader": {
     "cell_type": "code",
     "checksum": "22d2cd70c308e950af1d859be4bf378e",
     "grade": false,
     "grade_id": "cell-dab690dd6bae3045",
     "locked": false,
     "schema_version": 3,
     "solution": true
    }
   },
   "outputs": [],
   "source": [
    "x3 = nyc[['air_time','distance']]\n",
    "y3 = nyc['arr_delay']\n",
    "arr_del_model = LinearRegression().fit(x3,y3)"
   ]
  },
  {
   "cell_type": "markdown",
   "metadata": {
    "deletable": false,
    "editable": false,
    "nbgrader": {
     "cell_type": "markdown",
     "checksum": "7f355e915cf55e66b1461af044221f95",
     "grade": false,
     "grade_id": "cell-c6512f715b439d64",
     "locked": true,
     "schema_version": 3,
     "solution": false
    }
   },
   "source": [
    "<strong>3.1</strong> \\[1 pt\\] Please identify the coefficient value for air_time. Assign the coefficient to <strong>ANS31</strong>. The value of <strong>ANS31</strong> should be a number.\n"
   ]
  },
  {
   "cell_type": "code",
   "execution_count": 28,
   "metadata": {
    "deletable": false,
    "nbgrader": {
     "cell_type": "code",
     "checksum": "959f1ffa1f1c29cb3c4443be1158b636",
     "grade": false,
     "grade_id": "cell-401ead28a50b97c4",
     "locked": false,
     "schema_version": 3,
     "solution": true
    }
   },
   "outputs": [],
   "source": [
    "ANS31 =  arr_del_model.coef_[0]"
   ]
  },
  {
   "cell_type": "code",
   "execution_count": 29,
   "metadata": {
    "deletable": false,
    "editable": false,
    "nbgrader": {
     "cell_type": "code",
     "checksum": "67e4e8ed63ffcbb13cbaf17c95c96f30",
     "grade": true,
     "grade_id": "cell-b18e756ecd1fee7c",
     "locked": true,
     "points": 1,
     "schema_version": 3,
     "solution": false
    }
   },
   "outputs": [],
   "source": [
    "import numbers\n",
    "assert isinstance(ANS31, numbers.Number), \"Problem 3.1, testing ANS31, type of value stored in variable does not match the expected type. Expecting a number.\""
   ]
  },
  {
   "cell_type": "markdown",
   "metadata": {
    "deletable": false,
    "editable": false,
    "nbgrader": {
     "cell_type": "markdown",
     "checksum": "174282c0f81147a39c3649f0ad6d9c89",
     "grade": false,
     "grade_id": "cell-73e40a28b5c9eb01",
     "locked": true,
     "schema_version": 3,
     "solution": false
    }
   },
   "source": [
    "<strong>3.2</strong> \\[1 pt\\] Please identify the coefficient value for distance. Assign the coefficient to <strong>ANS32</strong>. The value of <strong>ANS32</strong> should be a number."
   ]
  },
  {
   "cell_type": "code",
   "execution_count": 30,
   "metadata": {
    "deletable": false,
    "nbgrader": {
     "cell_type": "code",
     "checksum": "26d383a9278a1e07824e457da6ee4697",
     "grade": false,
     "grade_id": "cell-0e050cc60e4b42d3",
     "locked": false,
     "schema_version": 3,
     "solution": true
    }
   },
   "outputs": [],
   "source": [
    "ANS32 = arr_del_model.coef_[1]"
   ]
  },
  {
   "cell_type": "code",
   "execution_count": 31,
   "metadata": {
    "deletable": false,
    "editable": false,
    "nbgrader": {
     "cell_type": "code",
     "checksum": "862d222724830bbf1cc94f8b40efe88e",
     "grade": true,
     "grade_id": "cell-0386a7e5734f568c",
     "locked": true,
     "points": 1,
     "schema_version": 3,
     "solution": false
    }
   },
   "outputs": [],
   "source": [
    "assert isinstance(ANS32, numbers.Number), \"Problem 3.2, testing ANS32, type of value stored in variable does not match the expected type. Expecting a number.\""
   ]
  },
  {
   "cell_type": "markdown",
   "metadata": {
    "deletable": false,
    "editable": false,
    "nbgrader": {
     "cell_type": "markdown",
     "checksum": "9ece3d0d7494a0593fe16f6d212f08e0",
     "grade": false,
     "grade_id": "cell-698078abdcc068d5",
     "locked": true,
     "schema_version": 3,
     "solution": false
    }
   },
   "source": [
    "<strong>3.3</strong> \\[1 pt\\] Please identify the intercept for the relationship between arr_delay, air_time, and distance. Assign the intercept to <strong>ANS33</strong>. The value of <strong>ANS33</strong> should be a number."
   ]
  },
  {
   "cell_type": "code",
   "execution_count": 32,
   "metadata": {
    "deletable": false,
    "nbgrader": {
     "cell_type": "code",
     "checksum": "232f88c816d1ba7da334c7fe355fab38",
     "grade": false,
     "grade_id": "cell-1efcb9537b16e5d3",
     "locked": false,
     "schema_version": 3,
     "solution": true
    }
   },
   "outputs": [],
   "source": [
    "ANS33 = arr_del_model.intercept_"
   ]
  },
  {
   "cell_type": "code",
   "execution_count": 33,
   "metadata": {
    "deletable": false,
    "editable": false,
    "nbgrader": {
     "cell_type": "code",
     "checksum": "40c5c644a91846642f3426244a5aeeed",
     "grade": true,
     "grade_id": "cell-bf3264479890ef39",
     "locked": true,
     "points": 1,
     "schema_version": 3,
     "solution": false
    }
   },
   "outputs": [],
   "source": [
    "assert isinstance(ANS33, numbers.Number), \"Problem 3.3, testing ANS33, type of value stored in variable does not match the expected type. Expecting a number.\"\n"
   ]
  },
  {
   "cell_type": "markdown",
   "metadata": {
    "deletable": false,
    "editable": false,
    "nbgrader": {
     "cell_type": "markdown",
     "checksum": "f09f61432f3d5c390320b15420fb2571",
     "grade": false,
     "grade_id": "cell-67bc19c792347986",
     "locked": true,
     "schema_version": 3,
     "solution": false
    }
   },
   "source": [
    "<strong>3.4</strong> \\[1 pt\\] If a flight’s air_time is 175 and distance is 1300, what is its predicted arrival delay? Please store your answer into variable <strong>ANS34</strong> as a number. "
   ]
  },
  {
   "cell_type": "code",
   "execution_count": 34,
   "metadata": {
    "deletable": false,
    "nbgrader": {
     "cell_type": "code",
     "checksum": "8bc083defb653b3b00532716a74a6caf",
     "grade": false,
     "grade_id": "cell-74149bfb119f9d77",
     "locked": false,
     "schema_version": 3,
     "solution": true
    }
   },
   "outputs": [],
   "source": [
    "ANS34 = arr_del_model.predict([[175,1300]])[0]"
   ]
  },
  {
   "cell_type": "code",
   "execution_count": 35,
   "metadata": {
    "deletable": false,
    "editable": false,
    "nbgrader": {
     "cell_type": "code",
     "checksum": "4fa75cfd1081d42fcbe345824b244902",
     "grade": true,
     "grade_id": "cell-750683efb8d91df0",
     "locked": true,
     "points": 1,
     "schema_version": 3,
     "solution": false
    }
   },
   "outputs": [],
   "source": [
    "assert isinstance(ANS34, numbers.Number), \"Problem 3.4, testing ANS34, type of value stored in variable does not match the expected type. Expecting a number.\""
   ]
  },
  {
   "cell_type": "markdown",
   "metadata": {
    "deletable": false,
    "editable": false,
    "hideCode": false,
    "hidePrompt": false,
    "nbgrader": {
     "cell_type": "markdown",
     "checksum": "962fe9ea2bbe50d8976de5911a73cb86",
     "grade": false,
     "grade_id": "cell-55831da0131b1340",
     "locked": true,
     "schema_version": 3,
     "solution": false
    }
   },
   "source": [
    "### 4. Linear Regression with statsmodels \n",
    "\n",
    "First, we will run through an example of linear regression using statsmodel. \n",
    "\n",
    "**Begin example:**"
   ]
  },
  {
   "cell_type": "markdown",
   "metadata": {
    "deletable": false,
    "editable": false,
    "hideCode": false,
    "hidePrompt": false,
    "nbgrader": {
     "cell_type": "markdown",
     "checksum": "49171f95fdc3aac127c51c3d17a76544",
     "grade": false,
     "grade_id": "cell-3cd77b6ab9a20a5a",
     "locked": true,
     "schema_version": 3,
     "solution": false
    }
   },
   "source": [
    "Please implement linear regreesion on the dataset"
   ]
  },
  {
   "cell_type": "markdown",
   "metadata": {
    "deletable": false,
    "editable": false,
    "hideCode": false,
    "hidePrompt": false,
    "nbgrader": {
     "cell_type": "markdown",
     "checksum": "494558a2da0e4070a00cd6edf0c73314",
     "grade": false,
     "grade_id": "cell-f560f92c3cfd535b",
     "locked": true,
     "schema_version": 3,
     "solution": false
    }
   },
   "source": [
    "    Linear regression refers to any linear relationship between the independent and dependent variables, yet it does not indicate how the model is fitted. As a result, there are serveral different approaches to linear regression problems. Here, I would like to introduce one of a common methods called ordinary least squares (OLS). The purpose of OLS is to find the best fit line by minizing the sum of the squared vertical distances (residuals).\n",
    "    Below is the mathmatic formula of ordinary least squares:\n",
    "    Assume we have a data of a set pairs of (x1,y1),(x2,y2).., and we are trying to find the best fit line for the data\n",
    "   (1)Find the mean of x values and y values\n",
    "        ![the equation of the means for X and Y](assets/Mean.png)\n",
    "    (2)Calculate the slope of the best fit line\n",
    "        ![the equation for the slope](assets/slope.png)\n",
    "    (3)Compute the y-intercept of the line \n",
    "        ![the equation for computing the y-intercept](assets/y-intercept.png)\n",
    "    (4)The regression line with the least square of distance from each data point to the line\n",
    "        ![a graph showing the regression line with the least square distance](assets/regression_line.png)"
   ]
  },
  {
   "cell_type": "code",
   "execution_count": 36,
   "metadata": {
    "hideCode": false,
    "hidePrompt": false
   },
   "outputs": [],
   "source": [
    "#in order to run OLS on the data, we have to install the model below:\n",
    "import math\n",
    "import numbers\n",
    "import statsmodels.api as sm\n",
    "import statsmodels.formula.api as smf\n",
    "import patsy\n",
    "import csv\n",
    "import pandas as pd \n"
   ]
  },
  {
   "cell_type": "markdown",
   "metadata": {
    "deletable": false,
    "editable": false,
    "hideCode": false,
    "hidePrompt": false,
    "nbgrader": {
     "cell_type": "markdown",
     "checksum": "09dc2a3173998dc4814b2b6f51bb2b15",
     "grade": false,
     "grade_id": "cell-de5285c715566739",
     "locked": true,
     "schema_version": 3,
     "solution": false
    }
   },
   "source": [
    "statsmodels.formula.api allows you to use R-Style formulas: y ~ x1 + x2 + x3 + ...\n",
    "\n",
    "    1.y represents the outcome/dependent variable\n",
    "    2.x1, x2, x3, etc represent explanatory/independent variables"
   ]
  },
  {
   "cell_type": "markdown",
   "metadata": {
    "deletable": false,
    "editable": false,
    "hideCode": false,
    "hidePrompt": false,
    "nbgrader": {
     "cell_type": "markdown",
     "checksum": "57158b81157ee03632aa33149c01d46f",
     "grade": false,
     "grade_id": "cell-bb822bf9d93bbfd7",
     "locked": true,
     "schema_version": 3,
     "solution": false
    }
   },
   "source": [
    "What is the relationship between depature delay and distance? "
   ]
  },
  {
   "cell_type": "code",
   "execution_count": 37,
   "metadata": {
    "deletable": false,
    "editable": false,
    "hideCode": false,
    "hidePrompt": false,
    "nbgrader": {
     "cell_type": "code",
     "checksum": "ed1ab012aa9bc1dc9af365eb6a85844e",
     "grade": false,
     "grade_id": "cell-fdbc5e90b575d6ca",
     "locked": true,
     "schema_version": 3,
     "solution": false
    }
   },
   "outputs": [
    {
     "data": {
      "text/html": [
       "<table class=\"simpletable\">\n",
       "<caption>OLS Regression Results</caption>\n",
       "<tr>\n",
       "  <th>Dep. Variable:</th>        <td>arr_delay</td>    <th>  R-squared:         </th>  <td>   0.007</td>  \n",
       "</tr>\n",
       "<tr>\n",
       "  <th>Model:</th>                   <td>OLS</td>       <th>  Adj. R-squared:    </th>  <td>   0.007</td>  \n",
       "</tr>\n",
       "<tr>\n",
       "  <th>Method:</th>             <td>Least Squares</td>  <th>  F-statistic:       </th>  <td>   198.0</td>  \n",
       "</tr>\n",
       "<tr>\n",
       "  <th>Date:</th>             <td>Mon, 27 Jun 2022</td> <th>  Prob (F-statistic):</th>  <td>8.25e-45</td>  \n",
       "</tr>\n",
       "<tr>\n",
       "  <th>Time:</th>                 <td>18:58:36</td>     <th>  Log-Likelihood:    </th> <td>-1.3502e+05</td>\n",
       "</tr>\n",
       "<tr>\n",
       "  <th>No. Observations:</th>      <td> 26398</td>      <th>  AIC:               </th>  <td>2.700e+05</td> \n",
       "</tr>\n",
       "<tr>\n",
       "  <th>Df Residuals:</th>          <td> 26396</td>      <th>  BIC:               </th>  <td>2.701e+05</td> \n",
       "</tr>\n",
       "<tr>\n",
       "  <th>Df Model:</th>              <td>     1</td>      <th>                     </th>      <td> </td>     \n",
       "</tr>\n",
       "<tr>\n",
       "  <th>Covariance Type:</th>      <td>nonrobust</td>    <th>                     </th>      <td> </td>     \n",
       "</tr>\n",
       "</table>\n",
       "<table class=\"simpletable\">\n",
       "<tr>\n",
       "      <td></td>         <th>coef</th>     <th>std err</th>      <th>t</th>      <th>P>|t|</th>  <th>[0.025</th>    <th>0.975]</th>  \n",
       "</tr>\n",
       "<tr>\n",
       "  <th>Intercept</th> <td>   11.0272</td> <td>    0.427</td> <td>   25.808</td> <td> 0.000</td> <td>   10.190</td> <td>   11.865</td>\n",
       "</tr>\n",
       "<tr>\n",
       "  <th>distance</th>  <td>   -0.0048</td> <td>    0.000</td> <td>  -14.072</td> <td> 0.000</td> <td>   -0.006</td> <td>   -0.004</td>\n",
       "</tr>\n",
       "</table>\n",
       "<table class=\"simpletable\">\n",
       "<tr>\n",
       "  <th>Omnibus:</th>       <td>28994.599</td> <th>  Durbin-Watson:     </th>  <td>   1.591</td>  \n",
       "</tr>\n",
       "<tr>\n",
       "  <th>Prob(Omnibus):</th>  <td> 0.000</td>   <th>  Jarque-Bera (JB):  </th> <td>7569174.795</td>\n",
       "</tr>\n",
       "<tr>\n",
       "  <th>Skew:</th>           <td> 5.203</td>   <th>  Prob(JB):          </th>  <td>    0.00</td>  \n",
       "</tr>\n",
       "<tr>\n",
       "  <th>Kurtosis:</th>       <td>85.300</td>   <th>  Cond. No.          </th>  <td>2.14e+03</td>  \n",
       "</tr>\n",
       "</table><br/><br/>Notes:<br/>[1] Standard Errors assume that the covariance matrix of the errors is correctly specified.<br/>[2] The condition number is large, 2.14e+03. This might indicate that there are<br/>strong multicollinearity or other numerical problems."
      ],
      "text/plain": [
       "<class 'statsmodels.iolib.summary.Summary'>\n",
       "\"\"\"\n",
       "                            OLS Regression Results                            \n",
       "==============================================================================\n",
       "Dep. Variable:              arr_delay   R-squared:                       0.007\n",
       "Model:                            OLS   Adj. R-squared:                  0.007\n",
       "Method:                 Least Squares   F-statistic:                     198.0\n",
       "Date:                Mon, 27 Jun 2022   Prob (F-statistic):           8.25e-45\n",
       "Time:                        18:58:36   Log-Likelihood:            -1.3502e+05\n",
       "No. Observations:               26398   AIC:                         2.700e+05\n",
       "Df Residuals:                   26396   BIC:                         2.701e+05\n",
       "Df Model:                           1                                         \n",
       "Covariance Type:            nonrobust                                         \n",
       "==============================================================================\n",
       "                 coef    std err          t      P>|t|      [0.025      0.975]\n",
       "------------------------------------------------------------------------------\n",
       "Intercept     11.0272      0.427     25.808      0.000      10.190      11.865\n",
       "distance      -0.0048      0.000    -14.072      0.000      -0.006      -0.004\n",
       "==============================================================================\n",
       "Omnibus:                    28994.599   Durbin-Watson:                   1.591\n",
       "Prob(Omnibus):                  0.000   Jarque-Bera (JB):          7569174.795\n",
       "Skew:                           5.203   Prob(JB):                         0.00\n",
       "Kurtosis:                      85.300   Cond. No.                     2.14e+03\n",
       "==============================================================================\n",
       "\n",
       "Notes:\n",
       "[1] Standard Errors assume that the covariance matrix of the errors is correctly specified.\n",
       "[2] The condition number is large, 2.14e+03. This might indicate that there are\n",
       "strong multicollinearity or other numerical problems.\n",
       "\"\"\""
      ]
     },
     "execution_count": 37,
     "metadata": {},
     "output_type": "execute_result"
    }
   ],
   "source": [
    "\n",
    "model1 = smf.ols('arr_delay ~ distance', data=nyc).fit()\n",
    "model1.summary()\n"
   ]
  },
  {
   "cell_type": "markdown",
   "metadata": {
    "deletable": false,
    "editable": false,
    "hideCode": false,
    "hidePrompt": false,
    "nbgrader": {
     "cell_type": "markdown",
     "checksum": "b0f6f7ee7401ec7103e0b3ae6da5d02e",
     "grade": false,
     "grade_id": "cell-1397067c1070ba26",
     "locked": true,
     "schema_version": 3,
     "solution": false
    }
   },
   "source": [
    "Based on the model, we hypothesize the model \n",
    "\n",
    "    arr_delay = -0.0048*distance + 11.0272"
   ]
  },
  {
   "cell_type": "markdown",
   "metadata": {
    "deletable": false,
    "editable": false,
    "hideCode": false,
    "hidePrompt": false,
    "nbgrader": {
     "cell_type": "markdown",
     "checksum": "ce9ee5a32d9522da46a3cc6a7417fe41",
     "grade": false,
     "grade_id": "cell-a3efac1745da8dd3",
     "locked": true,
     "schema_version": 3,
     "solution": false
    }
   },
   "source": [
    "**Example end**\n",
    "\n",
    "Now it is your turn!\n",
    "\n",
    "<strong>4.1</strong> Build an OLS model called model2 that shows the relationship between arr_delay and dep_delay. You will not submit anything for this question, but you need the output to answer 4.2 through 4.4."
   ]
  },
  {
   "cell_type": "code",
   "execution_count": 50,
   "metadata": {
    "deletable": false,
    "hideCode": false,
    "hidePrompt": false,
    "nbgrader": {
     "cell_type": "code",
     "checksum": "e034a4b73c70d7a2c331872a280aefa5",
     "grade": false,
     "grade_id": "cell-e108bf965a9dc83a",
     "locked": false,
     "schema_version": 3,
     "solution": true
    }
   },
   "outputs": [
    {
     "data": {
      "text/html": [
       "<table class=\"simpletable\">\n",
       "<caption>OLS Regression Results</caption>\n",
       "<tr>\n",
       "  <th>Dep. Variable:</th>        <td>arr_delay</td>    <th>  R-squared:         </th>  <td>   0.840</td>  \n",
       "</tr>\n",
       "<tr>\n",
       "  <th>Model:</th>                   <td>OLS</td>       <th>  Adj. R-squared:    </th>  <td>   0.840</td>  \n",
       "</tr>\n",
       "<tr>\n",
       "  <th>Method:</th>             <td>Least Squares</td>  <th>  F-statistic:       </th>  <td>1.382e+05</td> \n",
       "</tr>\n",
       "<tr>\n",
       "  <th>Date:</th>             <td>Mon, 27 Jun 2022</td> <th>  Prob (F-statistic):</th>   <td>  0.00</td>   \n",
       "</tr>\n",
       "<tr>\n",
       "  <th>Time:</th>                 <td>19:04:09</td>     <th>  Log-Likelihood:    </th> <td>-1.1095e+05</td>\n",
       "</tr>\n",
       "<tr>\n",
       "  <th>No. Observations:</th>      <td> 26398</td>      <th>  AIC:               </th>  <td>2.219e+05</td> \n",
       "</tr>\n",
       "<tr>\n",
       "  <th>Df Residuals:</th>          <td> 26396</td>      <th>  BIC:               </th>  <td>2.219e+05</td> \n",
       "</tr>\n",
       "<tr>\n",
       "  <th>Df Model:</th>              <td>     1</td>      <th>                     </th>      <td> </td>     \n",
       "</tr>\n",
       "<tr>\n",
       "  <th>Covariance Type:</th>      <td>nonrobust</td>    <th>                     </th>      <td> </td>     \n",
       "</tr>\n",
       "</table>\n",
       "<table class=\"simpletable\">\n",
       "<tr>\n",
       "      <td></td>         <th>coef</th>     <th>std err</th>      <th>t</th>      <th>P>|t|</th>  <th>[0.025</th>    <th>0.975]</th>  \n",
       "</tr>\n",
       "<tr>\n",
       "  <th>Intercept</th> <td>   -4.0570</td> <td>    0.103</td> <td>  -39.264</td> <td> 0.000</td> <td>   -4.260</td> <td>   -3.854</td>\n",
       "</tr>\n",
       "<tr>\n",
       "  <th>dep_delay</th> <td>    1.0202</td> <td>    0.003</td> <td>  371.798</td> <td> 0.000</td> <td>    1.015</td> <td>    1.026</td>\n",
       "</tr>\n",
       "</table>\n",
       "<table class=\"simpletable\">\n",
       "<tr>\n",
       "  <th>Omnibus:</th>       <td>3397.727</td> <th>  Durbin-Watson:     </th> <td>   1.604</td>\n",
       "</tr>\n",
       "<tr>\n",
       "  <th>Prob(Omnibus):</th>  <td> 0.000</td>  <th>  Jarque-Bera (JB):  </th> <td>9831.122</td>\n",
       "</tr>\n",
       "<tr>\n",
       "  <th>Skew:</th>           <td> 0.695</td>  <th>  Prob(JB):          </th> <td>    0.00</td>\n",
       "</tr>\n",
       "<tr>\n",
       "  <th>Kurtosis:</th>       <td> 5.647</td>  <th>  Cond. No.          </th> <td>    39.1</td>\n",
       "</tr>\n",
       "</table><br/><br/>Notes:<br/>[1] Standard Errors assume that the covariance matrix of the errors is correctly specified."
      ],
      "text/plain": [
       "<class 'statsmodels.iolib.summary.Summary'>\n",
       "\"\"\"\n",
       "                            OLS Regression Results                            \n",
       "==============================================================================\n",
       "Dep. Variable:              arr_delay   R-squared:                       0.840\n",
       "Model:                            OLS   Adj. R-squared:                  0.840\n",
       "Method:                 Least Squares   F-statistic:                 1.382e+05\n",
       "Date:                Mon, 27 Jun 2022   Prob (F-statistic):               0.00\n",
       "Time:                        19:04:09   Log-Likelihood:            -1.1095e+05\n",
       "No. Observations:               26398   AIC:                         2.219e+05\n",
       "Df Residuals:                   26396   BIC:                         2.219e+05\n",
       "Df Model:                           1                                         \n",
       "Covariance Type:            nonrobust                                         \n",
       "==============================================================================\n",
       "                 coef    std err          t      P>|t|      [0.025      0.975]\n",
       "------------------------------------------------------------------------------\n",
       "Intercept     -4.0570      0.103    -39.264      0.000      -4.260      -3.854\n",
       "dep_delay      1.0202      0.003    371.798      0.000       1.015       1.026\n",
       "==============================================================================\n",
       "Omnibus:                     3397.727   Durbin-Watson:                   1.604\n",
       "Prob(Omnibus):                  0.000   Jarque-Bera (JB):             9831.122\n",
       "Skew:                           0.695   Prob(JB):                         0.00\n",
       "Kurtosis:                       5.647   Cond. No.                         39.1\n",
       "==============================================================================\n",
       "\n",
       "Notes:\n",
       "[1] Standard Errors assume that the covariance matrix of the errors is correctly specified.\n",
       "\"\"\""
      ]
     },
     "execution_count": 50,
     "metadata": {},
     "output_type": "execute_result"
    }
   ],
   "source": [
    "model2 =smf.ols('arr_delay ~ dep_delay', data=nyc).fit()\n",
    "model2.summary()"
   ]
  },
  {
   "cell_type": "markdown",
   "metadata": {
    "deletable": false,
    "editable": false,
    "hideCode": false,
    "hidePrompt": false,
    "nbgrader": {
     "cell_type": "markdown",
     "checksum": "79c4a8b53ac2e52f520f391675c6fd75",
     "grade": false,
     "grade_id": "cell-db28b9ba74c2bf5f",
     "locked": true,
     "schema_version": 3,
     "solution": false
    }
   },
   "source": [
    "<strong>4.2</strong> \\[1 pt\\] Please identify the coefficient value (slope) for departure_delay. Assign the coefficient to <strong>ANS42</strong> and round to the thousandths decimal place (eg 1.001). The value of <strong>ANS42</strong> should be a python float."
   ]
  },
  {
   "cell_type": "code",
   "execution_count": 100,
   "metadata": {
    "deletable": false,
    "nbgrader": {
     "cell_type": "code",
     "checksum": "62138b9a795f7315467b7f237905d8e6",
     "grade": false,
     "grade_id": "cell-172f5a845b9d4df1",
     "locked": false,
     "schema_version": 3,
     "solution": true
    }
   },
   "outputs": [
    {
     "data": {
      "text/plain": [
       "1.02"
      ]
     },
     "execution_count": 100,
     "metadata": {},
     "output_type": "execute_result"
    }
   ],
   "source": [
    "ANS42 = round(model2.params[1],3)"
   ]
  },
  {
   "cell_type": "code",
   "execution_count": null,
   "metadata": {
    "deletable": false,
    "editable": false,
    "hideCode": false,
    "hidePrompt": false,
    "nbgrader": {
     "cell_type": "code",
     "checksum": "fa4b944d845f877e3125b3ae96f17b10",
     "grade": true,
     "grade_id": "cell-63845d1dda144e4e",
     "locked": true,
     "points": 1,
     "schema_version": 3,
     "solution": false
    }
   },
   "outputs": [],
   "source": [
    "assert isinstance(ANS42, numbers.Number), \"Problem 4.2, testing ANS42, type of value stored in variable does not match the expected type. Expecting a number.\""
   ]
  },
  {
   "cell_type": "markdown",
   "metadata": {
    "deletable": false,
    "editable": false,
    "nbgrader": {
     "cell_type": "markdown",
     "checksum": "af79ea99c322e4672231b7edd2e52b7d",
     "grade": false,
     "grade_id": "cell-eeb0157d754eccc9",
     "locked": true,
     "schema_version": 3,
     "solution": false
    }
   },
   "source": [
    "<strong>4.3</strong> \\[1 pt\\] Please identify the intercept for the relationship between arr_delay and dep_delay. Assign the intercept to <strong>ANS43</strong> and round to the thousandth decimal point (ex. 1.001). The value of <strong>ANS43</strong> should be a python float."
   ]
  },
  {
   "cell_type": "code",
   "execution_count": 45,
   "metadata": {
    "deletable": false,
    "nbgrader": {
     "cell_type": "code",
     "checksum": "aaf768e73c89bb93710e05b96199c5ce",
     "grade": false,
     "grade_id": "cell-55389d94bf9d2c92",
     "locked": false,
     "schema_version": 3,
     "solution": true
    }
   },
   "outputs": [],
   "source": [
    "ANS43 = round(model2.params[0],3)"
   ]
  },
  {
   "cell_type": "code",
   "execution_count": null,
   "metadata": {
    "deletable": false,
    "editable": false,
    "nbgrader": {
     "cell_type": "code",
     "checksum": "3fc6b31dea2d2f1dde76f243053af3a4",
     "grade": true,
     "grade_id": "cell-ed6697c8b15a7566",
     "locked": true,
     "points": 1,
     "schema_version": 3,
     "solution": false
    }
   },
   "outputs": [],
   "source": [
    "assert isinstance(ANS42, numbers.Number), \"Problem 4.3, testing ANS43, type of value stored in variable does not match the expected type. Expecting a number.\""
   ]
  },
  {
   "cell_type": "markdown",
   "metadata": {
    "deletable": false,
    "editable": false,
    "hideCode": false,
    "hidePrompt": false,
    "nbgrader": {
     "cell_type": "markdown",
     "checksum": "b66f9944a0850b6e3429b485a9e24c25",
     "grade": false,
     "grade_id": "cell-54e1dfddc84c68ff",
     "locked": true,
     "schema_version": 3,
     "solution": false
    }
   },
   "source": [
    "<strong>4.4</strong> \\[1 pt\\] If a flight was delayed for 10 minutes, how will it affect its arrival delay based on model2? Assign your answer to the variable <strong>ANS44</strong> and round to the thousandths place (eg 1.001). The value of <strong>ANS44</strong> should be a python float. Inputs to the slope and intercept should be rounded to the thousandths place as well. "
   ]
  },
  {
   "cell_type": "code",
   "execution_count": 104,
   "metadata": {
    "deletable": false,
    "nbgrader": {
     "cell_type": "code",
     "checksum": "cced51f62e738c8acd34de6508bcaa32",
     "grade": false,
     "grade_id": "cell-27d58a7f06f9e5be",
     "locked": false,
     "schema_version": 3,
     "solution": true
    }
   },
   "outputs": [],
   "source": [
    "ANS44= round(ANS42*10+ANS43,4)"
   ]
  },
  {
   "cell_type": "code",
   "execution_count": 105,
   "metadata": {
    "deletable": false,
    "editable": false,
    "hideCode": false,
    "hidePrompt": false,
    "nbgrader": {
     "cell_type": "code",
     "checksum": "d2343cccbb3fce90df9ab40025453b31",
     "grade": true,
     "grade_id": "cell-158d79d9ba447bf0",
     "locked": true,
     "points": 1,
     "schema_version": 3,
     "solution": false
    }
   },
   "outputs": [],
   "source": [
    "assert isinstance(ANS44, numbers.Number), \"Problem 4.4, testing ANS44, type of value stored in variable does not match the expected type. Expecting python float.\""
   ]
  },
  {
   "cell_type": "markdown",
   "metadata": {
    "deletable": false,
    "editable": false,
    "hideCode": false,
    "hidePrompt": false,
    "nbgrader": {
     "cell_type": "markdown",
     "checksum": "514b7a26c499ca27dd28a115ef25e03b",
     "grade": false,
     "grade_id": "cell-5a25a32f2c16d0d9",
     "locked": true,
     "schema_version": 3,
     "solution": false
    }
   },
   "source": [
    "### 5. Gradient Descent Computation "
   ]
  },
  {
   "cell_type": "markdown",
   "metadata": {
    "deletable": false,
    "editable": false,
    "hideCode": false,
    "hidePrompt": false,
    "nbgrader": {
     "cell_type": "markdown",
     "checksum": "5a97702262be070bc86d0741bb1211f1",
     "grade": false,
     "grade_id": "cell-cbb75c99152f780e",
     "locked": true,
     "schema_version": 3,
     "solution": false
    }
   },
   "source": [
    "<strong>5.1</strong> \\[1 pt\\] Assume we have a function f(x.y) =5x+4xy-y^2, what is its gradient? Please store the answer into a string type variable <strong>ANS51</strong> that is valid python code  (e.g. `ANS51 = \"[3*x + y, 3*x - 2y]\"`)."
   ]
  },
  {
   "cell_type": "code",
   "execution_count": null,
   "metadata": {
    "deletable": false,
    "nbgrader": {
     "cell_type": "code",
     "checksum": "57e14935e381179986d563b3b26c2fab",
     "grade": false,
     "grade_id": "cell-6b727406f38752e3",
     "locked": false,
     "schema_version": 3,
     "solution": true
    }
   },
   "outputs": [],
   "source": [
    "ANS51 = \"[4*y + 5,4*x - 2*y]\""
   ]
  },
  {
   "cell_type": "code",
   "execution_count": null,
   "metadata": {
    "deletable": false,
    "editable": false,
    "nbgrader": {
     "cell_type": "code",
     "checksum": "f30638ffc04e3a9b2e393d28ad5f1482",
     "grade": true,
     "grade_id": "cell-3d1dd840edb609b0",
     "locked": true,
     "points": 1,
     "schema_version": 3,
     "solution": false
    }
   },
   "outputs": [],
   "source": [
    "#hidden tests for problem 5.1 are within this cell"
   ]
  },
  {
   "cell_type": "markdown",
   "metadata": {
    "deletable": false,
    "editable": false,
    "nbgrader": {
     "cell_type": "markdown",
     "checksum": "dce99ffe104e0046dee09b78199434ef",
     "grade": false,
     "grade_id": "cell-e1a556c677b68e8c",
     "locked": true,
     "schema_version": 3,
     "solution": false
    }
   },
   "source": [
    "<strong>5.2</strong> \\[1 pt\\] Evaluate the gradient at the point (3,-1). Your solution should be stored into variable ANS52 as an array (e.g. `ANS52= np.array([1, 1])')."
   ]
  },
  {
   "cell_type": "code",
   "execution_count": 52,
   "metadata": {
    "deletable": false,
    "nbgrader": {
     "cell_type": "code",
     "checksum": "056e51b0efae2e7a4dd58345c8b48f1d",
     "grade": false,
     "grade_id": "cell-f6f8c34f82f4fc47",
     "locked": false,
     "schema_version": 3,
     "solution": true
    }
   },
   "outputs": [],
   "source": [
    "ANS52 = np.array([1,14])\n"
   ]
  },
  {
   "cell_type": "code",
   "execution_count": null,
   "metadata": {
    "deletable": false,
    "editable": false,
    "nbgrader": {
     "cell_type": "code",
     "checksum": "3bcea2a9b70cdcf57359589d7d051676",
     "grade": true,
     "grade_id": "cell-f0a421688510c4ad",
     "locked": true,
     "points": 1,
     "schema_version": 3,
     "solution": false
    }
   },
   "outputs": [],
   "source": [
    "#hidden tests for problem 5.2 are within this cell\n",
    "assert type(ANS52) == np.ndarray, \"Problem 5.2, expecting array type.\"\n",
    "assert ANS52.size == 2"
   ]
  },
  {
   "cell_type": "markdown",
   "metadata": {
    "deletable": false,
    "editable": false,
    "nbgrader": {
     "cell_type": "markdown",
     "checksum": "d749ab1116986601c42bfe859a378f71",
     "grade": false,
     "grade_id": "cell-8909eaabcc945222",
     "locked": true,
     "schema_version": 3,
     "solution": false
    }
   },
   "source": [
    "<strong>5.3</strong> \\[1 pt\\] What is the magnitude of the gradient at the point (3,-1). Please store your answer into variable <strong>ANS53</strong> as a number."
   ]
  },
  {
   "cell_type": "code",
   "execution_count": 56,
   "metadata": {
    "deletable": false,
    "nbgrader": {
     "cell_type": "code",
     "checksum": "6d4557ac7a437f9b5e5f80f2301ee61f",
     "grade": false,
     "grade_id": "cell-20eece5042dc5298",
     "locked": false,
     "schema_version": 3,
     "solution": true
    }
   },
   "outputs": [],
   "source": [
    "ANS53 = math.sqrt(1**2 + 14**2)"
   ]
  },
  {
   "cell_type": "code",
   "execution_count": 57,
   "metadata": {
    "deletable": false,
    "editable": false,
    "nbgrader": {
     "cell_type": "code",
     "checksum": "b1f537c6f3adb33ea17ead8313a5a129",
     "grade": true,
     "grade_id": "cell-f4f17f2cdb1143e1",
     "locked": true,
     "points": 1,
     "schema_version": 3,
     "solution": false
    }
   },
   "outputs": [],
   "source": [
    "#hidden tests for problem 5.3 are within this cell"
   ]
  },
  {
   "cell_type": "markdown",
   "metadata": {
    "deletable": false,
    "editable": false,
    "nbgrader": {
     "cell_type": "markdown",
     "checksum": "a48e8d2c8cfc5cf702bcc996bacbe7c0",
     "grade": false,
     "grade_id": "cell-59b253d2a67f3322",
     "locked": true,
     "schema_version": 3,
     "solution": false
    }
   },
   "source": [
    "<strong>5.4</strong> \\[1 pt\\] Starting from the given point (3,-1) and using the letter `a` as a symbol for your learning rate, find a new point $(x_{n},y_{n})$ on the gradient such that $f(x_{n},y_{n}) < f(3,-1)$ for sufficiently small 'a'. Store your answer into variable <strong>ANS54</strong> as a python string (e.g. ``ANS54 = \"[1 * a, 2-10 * a]\"`` containing valid python code.  "
   ]
  },
  {
   "cell_type": "code",
   "execution_count": null,
   "metadata": {
    "deletable": false,
    "nbgrader": {
     "cell_type": "code",
     "checksum": "8137e388f09024f7e079805c8010d246",
     "grade": false,
     "grade_id": "cell-c272eeb6bf131ab1",
     "locked": false,
     "schema_version": 3,
     "solution": true
    }
   },
   "outputs": [],
   "source": [
    "ANS54 = \"[3-1 * a, -1-14 * a]\""
   ]
  },
  {
   "cell_type": "code",
   "execution_count": null,
   "metadata": {
    "deletable": false,
    "editable": false,
    "nbgrader": {
     "cell_type": "code",
     "checksum": "399ae258b539c4f12f69e9f4cbbcf839",
     "grade": true,
     "grade_id": "cell-d710ee9fed0ad921",
     "locked": true,
     "points": 1,
     "schema_version": 3,
     "solution": false
    }
   },
   "outputs": [],
   "source": [
    "#hidden tests for problem 5.4 are within this cell"
   ]
  },
  {
   "cell_type": "markdown",
   "metadata": {
    "deletable": false,
    "editable": false,
    "nbgrader": {
     "cell_type": "markdown",
     "checksum": "a221bb7fb8440c612f3742f3c8f93765",
     "grade": false,
     "grade_id": "cell-0a416e5777455005",
     "locked": true,
     "schema_version": 3,
     "solution": false
    }
   },
   "source": [
    "### 6. Maximum Likelihood in Linear Regression"
   ]
  },
  {
   "cell_type": "markdown",
   "metadata": {
    "deletable": false,
    "editable": false,
    "nbgrader": {
     "cell_type": "markdown",
     "checksum": "0d35bbe6ccb14e631e29002bc3e3e18e",
     "grade": false,
     "grade_id": "cell-ae4260b4da2f14d3",
     "locked": true,
     "schema_version": 3,
     "solution": false
    }
   },
   "source": [
    "Let's say we have serveral data points: (2, 4.5, 8), and we know they are from a normal (Gaussian) distribution. "
   ]
  },
  {
   "cell_type": "markdown",
   "metadata": {
    "deletable": false,
    "editable": false,
    "nbgrader": {
     "cell_type": "markdown",
     "checksum": "dcb3d467ce1733227f7cf1f29366e929",
     "grade": false,
     "grade_id": "cell-3e1d588dc384d4e0",
     "locked": true,
     "schema_version": 3,
     "solution": false
    }
   },
   "source": [
    "6.1 [1 pt] Let's start by assuming some values for  𝜇  and  𝜎 . What is the likelihood of guess1:  𝑁(𝜇=4.5,𝜎=4) ? Store your answer in the variable <strong>ANS61</strong>."
   ]
  },
  {
   "cell_type": "code",
   "execution_count": 59,
   "metadata": {},
   "outputs": [],
   "source": [
    "from scipy.stats import norm"
   ]
  },
  {
   "cell_type": "code",
   "execution_count": 70,
   "metadata": {
    "deletable": false,
    "nbgrader": {
     "cell_type": "code",
     "checksum": "485375e107db9111105d1187493ee33d",
     "grade": false,
     "grade_id": "cell-69acfb919ac28d65",
     "locked": false,
     "schema_version": 3,
     "solution": true
    }
   },
   "outputs": [
    {
     "data": {
      "text/plain": [
       "0.0005565109655370626"
      ]
     },
     "execution_count": 70,
     "metadata": {},
     "output_type": "execute_result"
    }
   ],
   "source": [
    "mu = 4.5\n",
    "std = 4\n",
    "ANS61= norm.pdf(2,loc=mu, scale=std) * norm.pdf(4.5,loc=mu, scale=std) * norm.pdf(8,loc=mu, scale=std)"
   ]
  },
  {
   "cell_type": "code",
   "execution_count": null,
   "metadata": {
    "deletable": false,
    "editable": false,
    "nbgrader": {
     "cell_type": "code",
     "checksum": "5b31f61c43c8d9264330ad7b28c2f01a",
     "grade": true,
     "grade_id": "cell-269e647dc37aa1a2",
     "locked": true,
     "points": 1,
     "schema_version": 3,
     "solution": false
    }
   },
   "outputs": [],
   "source": [
    "assert isinstance(ANS61, numbers.Number), \"Problem 6.1, testing ANS61, type of value stored in variable does not match the expected type. Expecting a numpy float.\""
   ]
  },
  {
   "cell_type": "markdown",
   "metadata": {
    "deletable": false,
    "editable": false,
    "nbgrader": {
     "cell_type": "markdown",
     "checksum": "86b80997da12cbf362fa9f88d0390557",
     "grade": false,
     "grade_id": "cell-28cf1f91bc13bcce",
     "locked": true,
     "schema_version": 3,
     "solution": false
    }
   },
   "source": [
    "6.2 [1 pt] Let's change our assumptions regarding the values of  𝜇  and  𝜎 . What is the likelihood of guess2:  𝑁(𝜇=6,𝜎=8) ? Store your answer in the variable <strong>ANS62</strong>."
   ]
  },
  {
   "cell_type": "code",
   "execution_count": 73,
   "metadata": {
    "deletable": false,
    "nbgrader": {
     "cell_type": "code",
     "checksum": "19887e582f3d2525f4b132cade96df90",
     "grade": false,
     "grade_id": "cell-263a06516d98d519",
     "locked": false,
     "schema_version": 3,
     "solution": true
    }
   },
   "outputs": [
    {
     "data": {
      "text/plain": [
       "0.00010422397698910738"
      ]
     },
     "execution_count": 73,
     "metadata": {},
     "output_type": "execute_result"
    }
   ],
   "source": [
    "mu = 6\n",
    "std = 8\n",
    "ANS62= norm.pdf(2,loc=mu, scale=std) * norm.pdf(4.5,loc=mu, scale=std) * norm.pdf(8,loc=mu, scale=std)"
   ]
  },
  {
   "cell_type": "code",
   "execution_count": 72,
   "metadata": {
    "deletable": false,
    "editable": false,
    "nbgrader": {
     "cell_type": "code",
     "checksum": "b506e26f71db00b819fdc9ff18520a63",
     "grade": true,
     "grade_id": "cell-9420c421b1bd58cb",
     "locked": true,
     "points": 1,
     "schema_version": 3,
     "solution": false
    }
   },
   "outputs": [],
   "source": [
    "assert isinstance(ANS62, numbers.Number), \"Problem 6.2, testing ANS62, type of value stored in variable does not match the expected type. Expecting a numpy float.\""
   ]
  },
  {
   "cell_type": "markdown",
   "metadata": {
    "deletable": false,
    "editable": false,
    "nbgrader": {
     "cell_type": "markdown",
     "checksum": "e3ea3929ab8d57ad28dad1a8e8632395",
     "grade": false,
     "grade_id": "cell-78a86c9bd86f6ff5",
     "locked": true,
     "schema_version": 3,
     "solution": false
    }
   },
   "source": [
    "6.3 [1 pt] Which are the more likely estimates? Store your answer as either \"guess1\" or \"guess2\" into a variable called <strong>ANS63</strong>."
   ]
  },
  {
   "cell_type": "code",
   "execution_count": null,
   "metadata": {
    "deletable": false,
    "nbgrader": {
     "cell_type": "code",
     "checksum": "74cbf7bd52bb01e553ffe7bb9cf23632",
     "grade": false,
     "grade_id": "cell-f453156588607e72",
     "locked": false,
     "schema_version": 3,
     "solution": true
    }
   },
   "outputs": [],
   "source": [
    "ANS63 = \"guess1\""
   ]
  },
  {
   "cell_type": "code",
   "execution_count": null,
   "metadata": {
    "deletable": false,
    "editable": false,
    "nbgrader": {
     "cell_type": "code",
     "checksum": "9b561eba8634a4029e3631d130761aa9",
     "grade": true,
     "grade_id": "cell-05746e852aae7fc6",
     "locked": true,
     "points": 1,
     "schema_version": 3,
     "solution": false
    }
   },
   "outputs": [],
   "source": [
    "assert ((ANS63.strip().replace(\" \", \"\").lower() == \"guess1\") or (ANS63.strip().replace(\" \", \"\").lower() == \"guess2\")), \"Problem 6.3, testing ANS63, value was not 'guess1' or 'guess2'. Please choose 'guess1' or 'guess2' as your answer.\""
   ]
  },
  {
   "cell_type": "markdown",
   "metadata": {
    "deletable": false,
    "editable": false,
    "nbgrader": {
     "cell_type": "markdown",
     "checksum": "3165bea949b1cb53edcc7c04445beb3a",
     "grade": false,
     "grade_id": "cell-5a9ba4975c75583b",
     "locked": true,
     "schema_version": 3,
     "solution": false
    }
   },
   "source": [
    "## 7. Likelihood calculation based on a line"
   ]
  },
  {
   "cell_type": "markdown",
   "metadata": {
    "deletable": false,
    "editable": false,
    "nbgrader": {
     "cell_type": "markdown",
     "checksum": "188a3912f316c9520fdae2663c7433a2",
     "grade": false,
     "grade_id": "cell-ca0afa50037daa9c",
     "locked": true,
     "schema_version": 3,
     "solution": false
    }
   },
   "source": [
    "We have calculated the forecasted probability of winning according to some logistic regression line for some actual wins and losses (there are no ties). Here are those forecasted probabilities:\n",
    "\n",
    "Wins: P(winning)-- 0.52, 0.76, 0.89, 0.91, 0.95, 0.95, 0.98, 0.98\n",
    "\n",
    "Losses: P(winning)-- 0.08, 0.08, 0.08, 0.15, 0.2, 0.25, 0.6, 0.7"
   ]
  },
  {
   "cell_type": "markdown",
   "metadata": {
    "deletable": false,
    "editable": false,
    "nbgrader": {
     "cell_type": "markdown",
     "checksum": "167f4586576d5c39f8da14311db41775",
     "grade": false,
     "grade_id": "cell-a2fe366018853688",
     "locked": true,
     "schema_version": 3,
     "solution": false
    }
   },
   "source": [
    "7.1 [1 pt] What is the likelihood of the line given the data (you do not need the line nor the data - only the resulting probabilities). Please store your answer into <strong>ANS71</strong>."
   ]
  },
  {
   "cell_type": "code",
   "execution_count": 83,
   "metadata": {
    "deletable": false,
    "nbgrader": {
     "cell_type": "code",
     "checksum": "fb04f0af634933ff3b025e9c1b484d10",
     "grade": false,
     "grade_id": "cell-ffca7c0fb84fd7cb",
     "locked": false,
     "schema_version": 3,
     "solution": true
    }
   },
   "outputs": [],
   "source": [
    "ANS71= 0.52*0.76*0.89*0.91*0.95*0.95*0.98*0.98*(1-.08)*(1-.08)*(1-.08)*(1-.15)*(1-.2)*(1-.25)*(1-.6)*(1-.7)"
   ]
  },
  {
   "cell_type": "code",
   "execution_count": 84,
   "metadata": {
    "deletable": false,
    "editable": false,
    "nbgrader": {
     "cell_type": "code",
     "checksum": "c83499c1c97cf4310d418d9d6c47f0be",
     "grade": true,
     "grade_id": "cell-5cdf4a39dc5bece6",
     "locked": true,
     "points": 1,
     "schema_version": 3,
     "solution": false
    }
   },
   "outputs": [],
   "source": [
    "assert isinstance(ANS71, numbers.Number), \"Problem 7.1, testing ANS71, type of value stored in variable does not match the expected type. Expecting Float.\""
   ]
  },
  {
   "cell_type": "markdown",
   "metadata": {
    "deletable": false,
    "editable": false,
    "nbgrader": {
     "cell_type": "markdown",
     "checksum": "6e603c1aebed1955c3e49fd6b25d63a2",
     "grade": false,
     "grade_id": "cell-2929924882d14f22",
     "locked": true,
     "schema_version": 3,
     "solution": false
    }
   },
   "source": [
    "7.2 [1 pt] What is the log likelihood (ln) of the line given the data? Please store your answer into the variable <strong>ANS72</strong>."
   ]
  },
  {
   "cell_type": "code",
   "execution_count": 87,
   "metadata": {
    "deletable": false,
    "nbgrader": {
     "cell_type": "code",
     "checksum": "30a39793e577894a500fe0d194d0cfb3",
     "grade": false,
     "grade_id": "cell-6ad5b9bbdd641efc",
     "locked": false,
     "schema_version": 3,
     "solution": true
    }
   },
   "outputs": [],
   "source": [
    "ANS72 = math.log(0.52)+math.log(0.76)+math.log(0.89)+math.log(0.91)+math.log(0.95)+math.log(0.95)+math.log(0.98)+math.log(0.98)+math.log(1-.08)+math.log(1-.08)+math.log(1-.08)+math.log(1-.15)+math.log(1-.2)+math.log(1-.25)+math.log(1-.6)+math.log(1-.7)"
   ]
  },
  {
   "cell_type": "code",
   "execution_count": 88,
   "metadata": {
    "deletable": false,
    "editable": false,
    "nbgrader": {
     "cell_type": "code",
     "checksum": "43cd9c90a8e52587aea68b56509fab93",
     "grade": true,
     "grade_id": "cell-3c8689f3a5a8d626",
     "locked": true,
     "points": 1,
     "schema_version": 3,
     "solution": false
    }
   },
   "outputs": [],
   "source": [
    "assert isinstance(ANS72, numbers.Number), \"Problem 7.2, testing ANS72, type of value stored in variable does not match the expected type. Expecting Float.\"\n",
    "assert (ANS72 > 2) == False, \"Problem 7.2, testing ANS72, value is larger than expected. Which log did you use (log10 or ln)? Which are you supposed to use?\"\n",
    "assert (ANS72 < -4.5) == False, \"Problem 7.2, testing ANS72, value is smaller than expected. Check your math. Did you account for wins/losses?\""
   ]
  },
  {
   "cell_type": "markdown",
   "metadata": {
    "deletable": false,
    "editable": false,
    "nbgrader": {
     "cell_type": "markdown",
     "checksum": "3ee415371db3440d781a641cbdcc09a0",
     "grade": false,
     "grade_id": "cell-a63f6cba7e9bf85d",
     "locked": true,
     "schema_version": 3,
     "solution": false
    }
   },
   "source": [
    "Sources:\n",
    "<ul>\n",
    "    <li>https://www.statsmodels.org/stable/index.html</li>\n",
    "    <li>https://bigdata-madesimple.com/how-to-run-linear-regression-in-python-scikit-learn/</li>\n",
    "    <li>https://towardsdatascience.com/linear-regression-simplified-ordinary-least-square-vs-gradient-descent-48145de2cf76</li>\n",
    "</ul>"
   ]
  }
 ],
 "metadata": {
  "coursera": {
   "schema_names": [
    "mads_math_methods_for_data_science_v5_assignment4"
   ]
  },
  "hide_code_all_hidden": true,
  "kernelspec": {
   "display_name": "Python 3.10.6 64-bit",
   "language": "python",
   "name": "python3"
  },
  "language_info": {
   "codemirror_mode": {
    "name": "ipython",
    "version": 3
   },
   "file_extension": ".py",
   "mimetype": "text/x-python",
   "name": "python",
   "nbconvert_exporter": "python",
   "pygments_lexer": "ipython3",
   "version": "3.10.6"
  },
  "vscode": {
   "interpreter": {
    "hash": "b0fa6594d8f4cbf19f97940f81e996739fb7646882a419484c72d19e05852a7e"
   }
  }
 },
 "nbformat": 4,
 "nbformat_minor": 2
}
