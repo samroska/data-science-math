{
 "cells": [
  {
   "cell_type": "markdown",
   "metadata": {
    "deletable": false,
    "editable": false,
    "nbgrader": {
     "cell_type": "markdown",
     "checksum": "e75d2ee590bfd471c7eb30c38917b92d",
     "grade": false,
     "grade_id": "cell-cba503ee6ed424e1",
     "locked": true,
     "schema_version": 3,
     "solution": false
    }
   },
   "source": [
    "## Week 3: Probability\n",
    "\n",
    "### Version 1.1\n",
    "\n"
   ]
  },
  {
   "cell_type": "markdown",
   "metadata": {},
   "source": [
    "Plese enter your name =\"\""
   ]
  },
  {
   "cell_type": "markdown",
   "metadata": {
    "deletable": false,
    "editable": false,
    "nbgrader": {
     "cell_type": "markdown",
     "checksum": "a233d87c99ddb7a8325f1d0bdec5b3fc",
     "grade": false,
     "grade_id": "cell-e2388f80f2bfa35e",
     "locked": true,
     "schema_version": 3,
     "solution": false
    }
   },
   "source": [
    "## 1. Probability"
   ]
  },
  {
   "cell_type": "markdown",
   "metadata": {
    "deletable": false,
    "editable": false,
    "nbgrader": {
     "cell_type": "markdown",
     "checksum": "832ee4884cd7497bef7bc0e7f978040e",
     "grade": false,
     "grade_id": "cell-cbdb2f38375ebce9",
     "locked": true,
     "schema_version": 3,
     "solution": false
    }
   },
   "source": [
    "<strong>1.1</strong> \\[1 pt\\] A college is looking to form a team of 8 to participate in a coding compeition. The team needs at least 2 females and 2 males. If there are 4 males and 7 females who want to join the competition, how many different ways can the team be formed? Please store your answer as an integer (e.g. ANS1 = 1) into the variable <strong>ANS1</strong>."
   ]
  },
  {
   "cell_type": "code",
   "execution_count": 6,
   "metadata": {
    "deletable": false,
    "nbgrader": {
     "cell_type": "code",
     "checksum": "2240dac7ec8f972d8389fde2fd096edc",
     "grade": false,
     "grade_id": "cell-ee2bd7ab2781aa26",
     "locked": false,
     "schema_version": 3,
     "solution": true
    },
    "pycharm": {
     "is_executing": false
    }
   },
   "outputs": [],
   "source": [
    "import math\n",
    "import numpy as np\n",
    "import numbers\n",
    "\n",
    "# ffffffmm, fffffmmm, ffffmmmm\n",
    "\n",
    "two_males = math.comb(4,2) * math.comb(7,6)\n",
    "three_males = math.comb(4,3) * math.comb(7,5)\n",
    "four_males = math.comb(4,4) * math.comb(7,4)\n",
    "\n",
    "\n",
    "ANS1= two_males + three_males + four_males"
   ]
  },
  {
   "cell_type": "code",
   "execution_count": 2,
   "metadata": {
    "deletable": false,
    "editable": false,
    "nbgrader": {
     "cell_type": "code",
     "checksum": "825c48e8b66d85112a883aee1ebb7def",
     "grade": true,
     "grade_id": "cell-2380314f88f56d22",
     "locked": true,
     "points": 1,
     "schema_version": 3,
     "solution": false
    }
   },
   "outputs": [],
   "source": [
    "assert type(ANS1) == int, \"Problem 1.1, testing ANS1, type of value stored in variable does not match the expected type. Expecting Integer\""
   ]
  },
  {
   "cell_type": "markdown",
   "metadata": {
    "deletable": false,
    "editable": false,
    "nbgrader": {
     "cell_type": "markdown",
     "checksum": "f32f96e47c832f23b6c4d2d9a41a7560",
     "grade": false,
     "grade_id": "cell-59bcfa438bc13995",
     "locked": true,
     "schema_version": 3,
     "solution": false
    }
   },
   "source": [
    "## 2. Independent Probability "
   ]
  },
  {
   "cell_type": "markdown",
   "metadata": {
    "deletable": false,
    "editable": false,
    "nbgrader": {
     "cell_type": "markdown",
     "checksum": "f656a6ce8263146979040695a7f868bc",
     "grade": false,
     "grade_id": "cell-dd385e7b09d20bde",
     "locked": true,
     "schema_version": 3,
     "solution": false
    }
   },
   "source": [
    "Tom and Lily are trying to solve a problem. The probability of Tom successfully solving the problem is 0.4 and the probability of Lily successfully solving the problem is 0.5. They do not influence each other when they are solving the problem. For each solution, store the value as accurately as you can (ex. ANS = 2/9 instead of .2222).\n",
    "\n",
    "<strong>2.1</strong> \\[1 pt\\] What is the probability that both of them sucessfully solve the problem? Please store your answer to the variable <strong>ANS21</strong>."
   ]
  },
  {
   "cell_type": "code",
   "execution_count": null,
   "metadata": {
    "deletable": false,
    "nbgrader": {
     "cell_type": "code",
     "checksum": "d86b759faac5da10d863331ec7a752be",
     "grade": false,
     "grade_id": "cell-a89dfc965132afad",
     "locked": false,
     "schema_version": 3,
     "solution": true
    }
   },
   "outputs": [],
   "source": [
    "# P(a and b) =\n",
    "a = .4\n",
    "b = .5\n",
    "result = (a*b)\n",
    "ANS21 = result"
   ]
  },
  {
   "cell_type": "code",
   "execution_count": null,
   "metadata": {
    "deletable": false,
    "editable": false,
    "nbgrader": {
     "cell_type": "code",
     "checksum": "9614b68b58d5953c2296d096e7f072fa",
     "grade": true,
     "grade_id": "cell-4d4bf277ef89e5a1",
     "locked": true,
     "points": 1,
     "schema_version": 3,
     "solution": false
    }
   },
   "outputs": [],
   "source": [
    "assert isinstance(ANS21, numbers.Number), \"Problem 2.1, testing ANS21, type of value stored in variable does not match the expected type. Expecting Float.\""
   ]
  },
  {
   "cell_type": "markdown",
   "metadata": {
    "deletable": false,
    "editable": false,
    "nbgrader": {
     "cell_type": "markdown",
     "checksum": "ee48f14fe21d49ec2e9da4ea77b5aa92",
     "grade": false,
     "grade_id": "cell-71bb140cdec6a3a6",
     "locked": true,
     "schema_version": 3,
     "solution": false
    }
   },
   "source": [
    "<strong>2.2</strong> \\[1 pt\\] What is the probability that **exactly** one of them successfully solves the problem? Please store your answer to the variable <strong>ANS22</strong>. "
   ]
  },
  {
   "cell_type": "code",
   "execution_count": null,
   "metadata": {
    "deletable": false,
    "nbgrader": {
     "cell_type": "code",
     "checksum": "b6a28b39ed7f9517e0de926347c8f96e",
     "grade": false,
     "grade_id": "cell-e55df99dc649e767",
     "locked": false,
     "schema_version": 3,
     "solution": true
    }
   },
   "outputs": [],
   "source": [
    "# p(x=1)\n",
    "a = .4\n",
    "b = .5\n",
    "result = (a*(1-b))+((1-a)*b)\n",
    "ANS22 = result"
   ]
  },
  {
   "cell_type": "code",
   "execution_count": null,
   "metadata": {
    "deletable": false,
    "editable": false,
    "nbgrader": {
     "cell_type": "code",
     "checksum": "eb2df55b6190c701ed4ee81c7f998f07",
     "grade": true,
     "grade_id": "cell-04bf980d4b26a9f0",
     "locked": true,
     "points": 1,
     "schema_version": 3,
     "solution": false
    }
   },
   "outputs": [],
   "source": [
    "assert isinstance(ANS22, numbers.Number), \"Problem 2.2, testing ANS22, type of value stored in variable does not match the expected type. Expecting Float.\""
   ]
  },
  {
   "cell_type": "markdown",
   "metadata": {
    "deletable": false,
    "editable": false,
    "nbgrader": {
     "cell_type": "markdown",
     "checksum": "da2931d15b85575eecbebb48cace2789",
     "grade": false,
     "grade_id": "cell-2a79ba0a2e386a2d",
     "locked": true,
     "schema_version": 3,
     "solution": false
    }
   },
   "source": [
    "<strong>2.3</strong> \\[1 pt\\] Given that **exactly** one of them successfully solved the problem, what is the probability that the person is Tom?\n",
    "Please store your answer to the variable <strong>ANS23</strong>. "
   ]
  },
  {
   "cell_type": "code",
   "execution_count": null,
   "metadata": {
    "deletable": false,
    "nbgrader": {
     "cell_type": "code",
     "checksum": "15fbb9ae0d3ed4400f3f144b1019a423",
     "grade": false,
     "grade_id": "cell-9cd919f33acab2ef",
     "locked": false,
     "schema_version": 3,
     "solution": true
    }
   },
   "outputs": [],
   "source": [
    "# P( Tom |xr=1)\n",
    "a = .4\n",
    "b = .5\n",
    "\n",
    "ANS23= (a*(1-b))/b"
   ]
  },
  {
   "cell_type": "code",
   "execution_count": null,
   "metadata": {
    "deletable": false,
    "editable": false,
    "nbgrader": {
     "cell_type": "code",
     "checksum": "c0678881c4b46e81c937715d5e7eac6a",
     "grade": true,
     "grade_id": "cell-9beab75a7dab793d",
     "locked": true,
     "points": 1,
     "schema_version": 3,
     "solution": false
    }
   },
   "outputs": [],
   "source": [
    "assert isinstance(ANS23, numbers.Number), \"Problem 2.3, testing ANS23, type of value stored in variable does not match the expected type. Expecting Float.\""
   ]
  },
  {
   "cell_type": "markdown",
   "metadata": {
    "deletable": false,
    "editable": false,
    "nbgrader": {
     "cell_type": "markdown",
     "checksum": "6df219dbde970b786e2748b06821b80c",
     "grade": false,
     "grade_id": "cell-60e86babc0baaefd",
     "locked": true,
     "schema_version": 3,
     "solution": false
    }
   },
   "source": [
    "## 3. Conditional Probability"
   ]
  },
  {
   "cell_type": "markdown",
   "metadata": {
    "deletable": false,
    "editable": false,
    "nbgrader": {
     "cell_type": "markdown",
     "checksum": "6d4f37060d4d59922c2c924e3c98e93b",
     "grade": false,
     "grade_id": "cell-64709019ea754f4d",
     "locked": true,
     "schema_version": 3,
     "solution": false
    }
   },
   "source": [
    "There are two tests for a disease, one is rapid and the other is slow.  Given that an individual is infected, the rapid test will register positive 40% of the time, while the slow test will register positive 80% of the time; additionally, both tests will be positive 35% of the time.   \n",
    "\n",
    "<strong>3.1</strong> \\[1 pt\\] Given an infected person and that the rapid test measures a positive results, what is the probability that the slow test is also positive?  Store your answer in the variable <strong>ANS31</strong>.  For grading (on this and future problems) store the answer as accurately as possible using standard python data types.  For example, if the answer is 1/3, set ANS31 = 1/3 instead of .3333.\n",
    "\n"
   ]
  },
  {
   "cell_type": "code",
   "execution_count": 3,
   "metadata": {
    "deletable": false,
    "nbgrader": {
     "cell_type": "code",
     "checksum": "041f70ae5cd079c5036380a7c8e8b7b1",
     "grade": false,
     "grade_id": "cell-8566435eee91457e",
     "locked": false,
     "schema_version": 3,
     "solution": true
    }
   },
   "outputs": [],
   "source": [
    "#P(slow positive | rapid test positive)\n",
    "rapid_positive = .4\n",
    "both_positive = .35\n",
    "slow_positive = .8\n",
    "\n",
    "ANS31 = both_positive/rapid_positive"
   ]
  },
  {
   "cell_type": "code",
   "execution_count": 4,
   "metadata": {
    "deletable": false,
    "editable": false,
    "nbgrader": {
     "cell_type": "code",
     "checksum": "07e939a6215d42c7ce957c00b38d8fe1",
     "grade": true,
     "grade_id": "cell-557a697b7229071a",
     "locked": true,
     "points": 1,
     "schema_version": 3,
     "solution": false
    }
   },
   "outputs": [],
   "source": [
    "assert isinstance(ANS31, numbers.Number), \"Problem 3.1, testing ANS31, type of value stored in variable does not match the expected type. Expecting Float.\""
   ]
  },
  {
   "cell_type": "markdown",
   "metadata": {
    "deletable": false,
    "editable": false,
    "nbgrader": {
     "cell_type": "markdown",
     "checksum": "37c6e26a0d5c92346e7d43ac3e1d3eca",
     "grade": false,
     "grade_id": "cell-dee377764f1c9eb2",
     "locked": true,
     "schema_version": 3,
     "solution": false
    }
   },
   "source": [
    "<strong>3.2</strong> \\[1 pt\\]  Given an infected person and that the rapid test measures a negative result, what is the chance that the slow test is positive.  Store you answer in <strong>ANS32</strong>.  "
   ]
  },
  {
   "cell_type": "code",
   "execution_count": null,
   "metadata": {
    "deletable": false,
    "nbgrader": {
     "cell_type": "code",
     "checksum": "4ca28817b718d60de5bf8542c4ef246b",
     "grade": false,
     "grade_id": "cell-d8a6247556748dcc",
     "locked": false,
     "schema_version": 3,
     "solution": true
    },
    "pycharm": {
     "is_executing": false
    }
   },
   "outputs": [],
   "source": [
    "#p(slow positive | 1-rapid positive) = p(1-rapid positive & solow positive)/1-rapid positive\n",
    "rapid_positive = .4\n",
    "both_positive = .35\n",
    "slow_positive = .8\n",
    "result = (slow_positive - both_positive)/(1-rapid_positive)\n",
    "ANS32 = result"
   ]
  },
  {
   "cell_type": "code",
   "execution_count": null,
   "metadata": {
    "deletable": false,
    "editable": false,
    "nbgrader": {
     "cell_type": "code",
     "checksum": "1ddfbcc7314a07b6125a478b6098ce5e",
     "grade": true,
     "grade_id": "cell-0c3c06d832ee2f42",
     "locked": true,
     "points": 1,
     "schema_version": 3,
     "solution": false
    },
    "pycharm": {
     "is_executing": false
    }
   },
   "outputs": [],
   "source": [
    "assert isinstance(ANS32, numbers.Number), \"Problem 3.2, testing ANS32, type of value stored in variable does not match the expected type. Expecting Float.\""
   ]
  },
  {
   "cell_type": "markdown",
   "metadata": {
    "deletable": false,
    "editable": false,
    "nbgrader": {
     "cell_type": "markdown",
     "checksum": "21719e1c94c34b9306bc49acfb9957bd",
     "grade": false,
     "grade_id": "cell-d6fec34d29792320",
     "locked": true,
     "schema_version": 3,
     "solution": false
    }
   },
   "source": [
    "## 4. Bayes Rule"
   ]
  },
  {
   "cell_type": "markdown",
   "metadata": {
    "deletable": false,
    "editable": false,
    "nbgrader": {
     "cell_type": "markdown",
     "checksum": "e4881067ae4ec7ba707b803e348aa952",
     "grade": false,
     "grade_id": "cell-3f3407378ca208c3",
     "locked": true,
     "schema_version": 3,
     "solution": false
    }
   },
   "source": [
    "Suppose in the above example that people not infected always test negative for both tests.\n",
    "\n",
    "<strong>4.1</strong> \\[1 pt\\] Assume currently, 20% of the population has the virus.  Use Bayes theorem to calculate the chance that a persons has the virus conditioned on getting negative results for both tests?  Store your answer in the variable <strong>ANS41</strong> as accurately as possible.\n",
    "\n"
   ]
  },
  {
   "cell_type": "code",
   "execution_count": 44,
   "metadata": {
    "deletable": false,
    "nbgrader": {
     "cell_type": "code",
     "checksum": "3e0366352bcf782c5a4b7fba00996ed7",
     "grade": false,
     "grade_id": "cell-f68142d6a4ebf595",
     "locked": false,
     "schema_version": 3,
     "solution": true
    }
   },
   "outputs": [],
   "source": [
    "#P( negitive rapid && negitive slow |has virus)\n",
    "rapid_positive = .4 # rapid positive | virus\n",
    "both_positive = .35 # rapid positive && slow positive | virus\n",
    "slow_positive = .8 # slow postive | virus\n",
    "has_virus = .20\n",
    "no_viris = 1 - has_virus\n",
    "c_both_positive = 1 -(rapid_positive + slow_positive - both_positive)\n",
    "bayes = (has_virus*c_both_positive)/((has_virus*c_both_positive) + slow_positive)\n",
    "\n",
    "ANS41 = bayes"
   ]
  },
  {
   "cell_type": "code",
   "execution_count": null,
   "metadata": {
    "deletable": false,
    "editable": false,
    "nbgrader": {
     "cell_type": "code",
     "checksum": "cd6c3c6a330468f5abde7c107be73360",
     "grade": true,
     "grade_id": "cell-c32efd59d0bc94f7",
     "locked": true,
     "points": 1,
     "schema_version": 3,
     "solution": false
    }
   },
   "outputs": [],
   "source": [
    "assert isinstance(ANS41, numbers.Number), \"Problem 4.1, testing ANS41, type of value stored in variable does not match the expected type. Expecting Float.\""
   ]
  },
  {
   "cell_type": "markdown",
   "metadata": {
    "deletable": false,
    "editable": false,
    "nbgrader": {
     "cell_type": "markdown",
     "checksum": "43ea737b5ec7603252cfcfbbd8b27301",
     "grade": false,
     "grade_id": "cell-62c1c6562c89331b",
     "locked": true,
     "schema_version": 3,
     "solution": false
    }
   },
   "source": [
    "<strong>4.2</strong> \\[1 pt\\]  Of the people in the population who are tested, 75% of their results from the slow test are positive.  What is the chance that a persons has the virus conditioned on getting negative result on the slow test?\n",
    "Store your answer in the variable <strong>ANS42</strong> as accurately as possible."
   ]
  },
  {
   "cell_type": "code",
   "execution_count": 50,
   "metadata": {
    "deletable": false,
    "nbgrader": {
     "cell_type": "code",
     "checksum": "ef7c490c4dd2e6c4ee1cf4a3a92b766d",
     "grade": false,
     "grade_id": "cell-2583cf0d6409ae0f",
     "locked": false,
     "schema_version": 3,
     "solution": true
    }
   },
   "outputs": [
    {
     "data": {
      "text/plain": [
       "0.5625"
      ]
     },
     "execution_count": 50,
     "metadata": {},
     "output_type": "execute_result"
    }
   ],
   "source": [
    "#P(negative slow | has virus)\n",
    "a=.75\n",
    "ANS42 = ((A*slow_positive)*(1-a))/(1-slow_positive)"
   ]
  },
  {
   "cell_type": "code",
   "execution_count": null,
   "metadata": {
    "deletable": false,
    "editable": false,
    "nbgrader": {
     "cell_type": "code",
     "checksum": "49d93d5fbe77c754c69631a6ba793682",
     "grade": true,
     "grade_id": "cell-2cd6eebb1477a722",
     "locked": true,
     "points": 1,
     "schema_version": 3,
     "solution": false
    }
   },
   "outputs": [],
   "source": [
    "assert isinstance(ANS42, numbers.Number), \"Problem 4.2, testing ANS42, type of value stored in variable does not match the expected type. Expecting Float.\""
   ]
  },
  {
   "cell_type": "markdown",
   "metadata": {},
   "source": [
    "Suppose that you are an art dealer for Van Gogh paintings. Whenever someone brings in a painting that they claim is from Van Gogh, you send in the painting for pigment analysis. Pigment analysis successfully identifies 90% of Van Gogh paintings and falsely identifies 20% of forgeries as being from Van Gogh. In your experience, 99% of the paintings that people bring to you are forgeries.\n",
    "\n",
    "<strong>4.3</strong> \\[1 pt\\] Use Bayes theorem to calculate the chance that a painting is from Van Gogh if the pigment analysis finds that it is from Van Gogh. Store your answer in the variable <strong>ANS43</strong> as accurately as possible."
   ]
  },
  {
   "cell_type": "code",
   "execution_count": null,
   "metadata": {
    "deletable": false,
    "nbgrader": {
     "cell_type": "code",
     "checksum": "0057712e9a1ea06c4cb67bc71d8e6ab9",
     "grade": false,
     "grade_id": "cell-fc6f0a9fc9408cc2",
     "locked": false,
     "schema_version": 3,
     "solution": true
    }
   },
   "outputs": [],
   "source": [
    "fake = .99\n",
    "real = 1 - fake\n",
    "#p(pigment say real | its fake)\n",
    "pigment_real_is_fake = .2\n",
    "pigment_real_is_real = .9\n",
    "#p(is real | pigment real)\n",
    "result = (pigment_real_is_real*real)/((pigment_real_is_real*real)+(pigment_real_is_fake*fake))\n",
    "\n",
    "ANS43 = result\n"
   ]
  },
  {
   "cell_type": "code",
   "execution_count": null,
   "metadata": {
    "deletable": false,
    "editable": false,
    "nbgrader": {
     "cell_type": "code",
     "checksum": "1578ea488fb047490019cd7abdedbef9",
     "grade": true,
     "grade_id": "cell-f3787978ae55118b",
     "locked": true,
     "points": 1,
     "schema_version": 3,
     "solution": false
    }
   },
   "outputs": [],
   "source": [
    "assert isinstance(ANS43, numbers.Number), \"Problem 4.3, testing ANS43, type of value stored in variable does not match the expected type. Expecting Float.\""
   ]
  },
  {
   "cell_type": "markdown",
   "metadata": {
    "deletable": false,
    "editable": false,
    "nbgrader": {
     "cell_type": "markdown",
     "checksum": "e29c58d8a7b2a2fe9b9bf24dcf00a680",
     "grade": false,
     "grade_id": "cell-d6fec34d29792333",
     "locked": true,
     "schema_version": 3,
     "solution": false
    }
   },
   "source": [
    "## 5. Expectation and Variance"
   ]
  },
  {
   "cell_type": "markdown",
   "metadata": {
    "deletable": false,
    "editable": false,
    "nbgrader": {
     "cell_type": "markdown",
     "checksum": "aa9a64678c667aef2041003ff02931bb",
     "grade": false,
     "grade_id": "cell-3f3407378ca208c6",
     "locked": true,
     "schema_version": 3,
     "solution": false
    }
   },
   "source": [
    "In a state park, a lost person arrives at a fork with 3 roads: <br>\n",
    "• The first road leads back to the same point after 1 hour of walking.<br>\n",
    "• The second road leads back to the same point after 2 hours of walking.<br>\n",
    "• The third road leads to the parking lot after 5 hours of walking. <br>\n",
    "There are no signs on the roads and when the lost person arrives back at the fork they have no memory of which road(s) they had taken previously.\n",
    "\n",
    "<strong>5.1</strong> \\[2 pt\\]  Assuming that the lost person always chooses each road with equal probability, what is the expected amount of time until the tourist arrives at the parking lot?  Store your answer in the variable <strong>ANS51</strong> as accurately as possible.\n",
    "\n",
    "Hint: If you are stuck on how to start, go back and watch the lectures on expectation where we compute a similar example."
   ]
  },
  {
   "cell_type": "code",
   "execution_count": 24,
   "metadata": {
    "deletable": false,
    "nbgrader": {
     "cell_type": "code",
     "checksum": "8de3836c549c03556e9acf63c57904ab",
     "grade": false,
     "grade_id": "cell-f68142d6a4ebf596",
     "locked": false,
     "schema_version": 3,
     "solution": true
    }
   },
   "outputs": [
    {
     "data": {
      "text/plain": [
       "8"
      ]
     },
     "execution_count": 24,
     "metadata": {},
     "output_type": "execute_result"
    }
   ],
   "source": [
    "import math\n",
    "\n",
    "ANS51 = math.comb(3,1)+ math.comb(3,2) + math.comb(3,3)+ math.comb(3,0)\n"
   ]
  },
  {
   "cell_type": "code",
   "execution_count": 8,
   "metadata": {
    "deletable": false,
    "editable": false,
    "nbgrader": {
     "cell_type": "code",
     "checksum": "98bf2e4b5543036d46aed86d036e8651",
     "grade": true,
     "grade_id": "cell-c32efd59d0bc94f3",
     "locked": true,
     "points": 2,
     "schema_version": 3,
     "solution": false
    }
   },
   "outputs": [],
   "source": [
    "assert isinstance(ANS51, numbers.Number), \"Problem 5.1, testing ANS51, type of value stored in variable does not match the expected type. Expecting Float.\""
   ]
  },
  {
   "cell_type": "markdown",
   "metadata": {
    "deletable": false,
    "editable": false,
    "nbgrader": {
     "cell_type": "markdown",
     "checksum": "3693df46313e46fa829801ff9485ba8a",
     "grade": false,
     "grade_id": "cell-d9a9a78d56def095",
     "locked": true,
     "schema_version": 3,
     "solution": false
    }
   },
   "source": [
    "<strong>5.2</strong> \\[2 pt\\]  What is the expectation and variance of the sum of the roll of two dice?   Store your answer as a tuple in the variable <strong>ANS52</strong> as accurately as possible."
   ]
  },
  {
   "cell_type": "code",
   "execution_count": 40,
   "metadata": {
    "deletable": false,
    "nbgrader": {
     "cell_type": "code",
     "checksum": "0b904640e2500762737566bed7c130b3",
     "grade": false,
     "grade_id": "cell-bbd9380cfee320a3",
     "locked": false,
     "schema_version": 3,
     "solution": true
    }
   },
   "outputs": [
    {
     "data": {
      "text/plain": [
       "(7.0, 5.833333333333334)"
      ]
     },
     "execution_count": 40,
     "metadata": {},
     "output_type": "execute_result"
    }
   ],
   "source": [
    "import statistics\n",
    "n = np.array([1,2,3,4,5,6])\n",
    "p_of_n = n*(1/6)\n",
    "v = (n -sum(p_of_n))**2 *1/6\n",
    "\n",
    "ANS52=(2*sum(p_of_n),2*sum(v))\n"
   ]
  },
  {
   "cell_type": "code",
   "execution_count": 35,
   "metadata": {
    "deletable": false,
    "editable": false,
    "nbgrader": {
     "cell_type": "code",
     "checksum": "22a3da4d98256ada85765a330cc0d4dd",
     "grade": true,
     "grade_id": "cell-402ceeaf0297d261",
     "locked": true,
     "points": 2,
     "schema_version": 3,
     "solution": false
    }
   },
   "outputs": [],
   "source": [
    "assert len(ANS52) == 2,  \"Problem 5.2, testing ANS52, type of value stored in variable does not match the expected type. Tuple.\" \n",
    "assert isinstance(ANS52[0], numbers.Number) and isinstance(ANS52[1], numbers.Number) , \"Problem 5.2, testing ANS52, type of values stored in tuples do not match the expected type. Expecting Float.\""
   ]
  },
  {
   "cell_type": "markdown",
   "metadata": {
    "deletable": false,
    "editable": false,
    "nbgrader": {
     "cell_type": "markdown",
     "checksum": "328c8af5da8e6ca7032e8cc7774f5ce6",
     "grade": false,
     "grade_id": "cell-328574ffebd2bb82",
     "locked": true,
     "schema_version": 3,
     "solution": false
    }
   },
   "source": [
    "## 6. Monte Carlo Method\n",
    "\n"
   ]
  },
  {
   "cell_type": "markdown",
   "metadata": {
    "deletable": false,
    "editable": false,
    "nbgrader": {
     "cell_type": "markdown",
     "checksum": "36f0cf389c18bb38c8064a4938a4fda6",
     "grade": false,
     "grade_id": "cell-c2a469261bc4c230",
     "locked": true,
     "schema_version": 3,
     "solution": false
    }
   },
   "source": [
    "<strong>6.1</strong> \\[2 pt\\]  You receive one of five distinct coupons uniformily at random each day.  Use the Monte Carlo Method to estimate to within .01 days, the expected number of days until you collect two copies of each of the five coupons.  Record your answer in <strong>ANS61</strong>.\n",
    "\n",
    "Hint: If your code is not very efficient, the autograder may timeout.  You can run this on your own computer and then copy the answer to this notebook. "
   ]
  },
  {
   "cell_type": "code",
   "execution_count": 11,
   "metadata": {
    "deletable": false,
    "nbgrader": {
     "cell_type": "code",
     "checksum": "ef54dca2119de9a02dd1acecbd0d6c4a",
     "grade": false,
     "grade_id": "cell-ceb4705829e49a2c",
     "locked": false,
     "schema_version": 3,
     "solution": true
    }
   },
   "outputs": [],
   "source": [
    "import numpy as np\n",
    "\n",
    "n=100000\n",
    "high_range=5\n",
    "num_of_days=0\n",
    "\n",
    "def check(coupon_list):\n",
    "    for i in range(high_range):\n",
    "        if coupon_list[i] < 2:\n",
    "            return False\n",
    "    return True\n",
    "\n",
    "for _ in range(n):\n",
    "    day = 1\n",
    "    coupons = [0 for i in range(high_range)]\n",
    "    while True:\n",
    "        random_coupon = np.random.randint(0,high_range)\n",
    "        coupons[random_coupon] = coupons[random_coupon] + 1\n",
    "        if check(coupons):\n",
    "            break\n",
    "        else:\n",
    "            day+=1\n",
    "    \n",
    "    num_of_days+=day\n",
    "\n",
    "ANS61 = round(num_of_days/n,2)\n"
   ]
  },
  {
   "cell_type": "code",
   "execution_count": null,
   "metadata": {
    "deletable": false,
    "editable": false,
    "nbgrader": {
     "cell_type": "code",
     "checksum": "5a33486600d7414d47193c403a74fb10",
     "grade": true,
     "grade_id": "cell-24a0cb9f1d006a9b",
     "locked": true,
     "points": 2,
     "schema_version": 3,
     "solution": false
    }
   },
   "outputs": [],
   "source": [
    "assert isinstance(ANS61, numbers.Number), \"Problem 6.1, testing ANS61, type of value stored in variable does not match the expected type. Expecting Float.\""
   ]
  },
  {
   "cell_type": "markdown",
   "metadata": {
    "deletable": false,
    "editable": false,
    "nbgrader": {
     "cell_type": "markdown",
     "checksum": "4d5db4db1410a44d4e46e12207ae4b92",
     "grade": false,
     "grade_id": "cell-08fb1afe11cc26f1",
     "locked": true,
     "schema_version": 3,
     "solution": false
    }
   },
   "source": [
    "<strong>6.2</strong> \\[2 pt\\]  There are 30 coins.  While 29 of them are fair, 1 of them flips heads with probability 60%.  You flip each coin 100 times and record the number of times that it lands heads.  You then order the coins from most heads to least heads.  You seperate out the 10 coins that flipped heads the most into a pile of \"candidate coins\".  If several coins are tied for the 10th most heads, include them all.  (So your pile of candidate coins will always contain at least 10 heads, but may also include more).     \n",
    "\n",
    "Use the Monte Carlo method to compute (within .1%) the probability that the unfair coin is in the pile of candidate coins.   Record your answer in <strong>ANS62</strong>.\n",
    "\n",
    "Hint 1: use np.random.binomial to speed up simulation.  A binomial variable with parameters n and p is the number of heads resulting from flipping n coins, where each has probability p of landing heads.  \n",
    "\n",
    "Hint 2: If your code is not very efficient, the autograder may timeout.  You can run this on your own computer and then copy the answer.  "
   ]
  },
  {
   "cell_type": "code",
   "execution_count": 41,
   "metadata": {
    "deletable": false,
    "nbgrader": {
     "cell_type": "code",
     "checksum": "300b6cecc99580a49cd915eb852fc097",
     "grade": false,
     "grade_id": "cell-49d189d155b7bffe",
     "locked": false,
     "schema_version": 3,
     "solution": true
    }
   },
   "outputs": [],
   "source": [
    "fair = np.average(np.random.binomial(100,.5, 30))\n",
    "bad = np.average(np.random.binomial(100,.6, 30))\n",
    "ANS62 = (bad*.01)/(fair*.99)+(bad*.01)\n"
   ]
  },
  {
   "cell_type": "code",
   "execution_count": null,
   "metadata": {
    "deletable": false,
    "editable": false,
    "nbgrader": {
     "cell_type": "code",
     "checksum": "1072809d7ce72f0fdae8d0c769152584",
     "grade": true,
     "grade_id": "cell-691ed4f14f4a3360",
     "locked": true,
     "points": 2,
     "schema_version": 3,
     "solution": false
    }
   },
   "outputs": [],
   "source": [
    "assert isinstance(ANS62, numbers.Number), \"Problem 6.2, testing ANS62, type of value stored in variable does not match the expected type. Expecting Float.\""
   ]
  }
 ],
 "metadata": {
  "coursera": {
   "schema_names": [
    "mads_math_methods_for_data_science_v5_assignment3"
   ]
  },
  "kernelspec": {
   "display_name": "Python 3.10.6 64-bit",
   "language": "python",
   "name": "python3"
  },
  "language_info": {
   "codemirror_mode": {
    "name": "ipython",
    "version": 3
   },
   "file_extension": ".py",
   "mimetype": "text/x-python",
   "name": "python",
   "nbconvert_exporter": "python",
   "pygments_lexer": "ipython3",
   "version": "3.10.6"
  },
  "pycharm": {
   "stem_cell": {
    "cell_type": "raw",
    "metadata": {
     "collapsed": false
    },
    "source": []
   }
  },
  "vscode": {
   "interpreter": {
    "hash": "b0fa6594d8f4cbf19f97940f81e996739fb7646882a419484c72d19e05852a7e"
   }
  }
 },
 "nbformat": 4,
 "nbformat_minor": 2
}
