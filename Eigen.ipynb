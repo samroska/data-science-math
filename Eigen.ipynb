{
 "cells": [
  {
   "cell_type": "markdown",
   "metadata": {
    "deletable": false,
    "editable": false,
    "nbgrader": {
     "cell_type": "markdown",
     "checksum": "ceb19e3c2e2174ad5c5eebe0e5f1d181",
     "grade": false,
     "grade_id": "cell-a2d42e109d5a4446",
     "locked": true,
     "schema_version": 3,
     "solution": false
    }
   },
   "source": [
    "## Week2: Linear Independence and Eigenvalue/Eigenvector\n",
    "\n",
    "### Version 1.2\n",
    "\n",
    "This assignment covers basic linear algebra and computational properties of matrices through identifying linearity across vectors, using row reduction to calculate eigenvalues and eigenvectors. "
   ]
  },
  {
   "cell_type": "markdown",
   "metadata": {},
   "source": [
    "Please enter your name: \"\""
   ]
  },
  {
   "cell_type": "markdown",
   "metadata": {
    "deletable": false,
    "editable": false,
    "nbgrader": {
     "cell_type": "markdown",
     "checksum": "e8233e474cb3078d25b2045117ffe093",
     "grade": false,
     "grade_id": "cell-2ec3375c714bff40",
     "locked": true,
     "schema_version": 3,
     "solution": false
    }
   },
   "source": [
    "## Part 1: Linear (In)dependence\n"
   ]
  },
  {
   "cell_type": "markdown",
   "metadata": {
    "deletable": false,
    "editable": false,
    "nbgrader": {
     "cell_type": "markdown",
     "checksum": "d0a24edfe2561dbc8290c446eee91814",
     "grade": false,
     "grade_id": "cell-34ab2f1da94f850b",
     "locked": true,
     "schema_version": 3,
     "solution": false
    }
   },
   "source": [
    "<b>1.0</b> In this section, we will be determining if a set of vectors are linearly independent (if they are not, then they are linearly dependent). Below you will be asked to write a function to decide if 2, 3, or 4 inputed vectors in $\\mathbf{R}^3$ are linearly independent.  \n",
    "\n",
    "\n",
    "    \n"
   ]
  },
  {
   "cell_type": "code",
   "execution_count": 1,
   "metadata": {
    "deletable": false,
    "editable": false,
    "nbgrader": {
     "cell_type": "code",
     "checksum": "f25f46148588a816f3604e73143a9983",
     "grade": false,
     "grade_id": "cell-91d40d41fc3261a7",
     "locked": true,
     "schema_version": 3,
     "solution": false
    }
   },
   "outputs": [],
   "source": [
    "from sympy import *\n",
    "import numpy as np\n",
    "from scipy import linalg\n",
    "from numpy import linalg\n",
    "import pandas as pd\n",
    "from sklearn.preprocessing import StandardScaler\n",
    "from sklearn.decomposition import PCA\n",
    "import matplotlib.pyplot as plt\n",
    "\n",
    "\n"
   ]
  },
  {
   "cell_type": "markdown",
   "metadata": {
    "deletable": false,
    "editable": false,
    "nbgrader": {
     "cell_type": "markdown",
     "checksum": "5010ce8ed64af9fd1d9b510e36c9c17b",
     "grade": false,
     "grade_id": "cell-1b3452e8f5584c8a",
     "locked": true,
     "schema_version": 3,
     "solution": false
    }
   },
   "source": [
    "<strong>1.1</strong> \\[2 pt\\] Impliment the function Indy2Vec that takes in two 3 dimentional vectors each represented as an array and returns <strong>True</strong> if the are linearly independent, and otherwise returns <strong>False</strong>.\n",
    "\n",
    "Hint: Beware of rounding errors.\n"
   ]
  },
  {
   "cell_type": "code",
   "execution_count": 10,
   "metadata": {
    "deletable": false,
    "nbgrader": {
     "cell_type": "code",
     "checksum": "b6c0b10d230805049576022bfe8b0716",
     "grade": false,
     "grade_id": "cell-411ec698d9ae862d",
     "locked": false,
     "schema_version": 3,
     "solution": true
    }
   },
   "outputs": [],
   "source": [
    "from scipy import linalg\n",
    "def Indy2Vec(v1, v2):\n",
    "    new_arr = np.row_stack([v1,v2])\n",
    "    s = linalg.svdvals(new_arr)\n",
    "    vals = np.round(s, 3)\n",
    "    for vec in vals:\n",
    "        if vec == 0:\n",
    "            return False\n",
    "    return True\n"
   ]
  },
  {
   "cell_type": "code",
   "execution_count": 11,
   "metadata": {
    "deletable": false,
    "editable": false,
    "nbgrader": {
     "cell_type": "code",
     "checksum": "902f227a5075fac2d092d32c4baf0129",
     "grade": true,
     "grade_id": "cell-45a28a1ab4ac003c",
     "locked": true,
     "points": 2,
     "schema_version": 3,
     "solution": false
    }
   },
   "outputs": [],
   "source": [
    "v1 = np.array([0, 5, 0])\n",
    "v2 = np.array([0, -10, 0])\n",
    "v3 = np.array([1, 2, 3])\n",
    "v4 = np.array([-2, -4, -6])\n",
    "assert Indy2Vec(v1, v2) == False, \"Problem 1.1, Your code said that two linearly dependent vectors were independent\"\n",
    "assert Indy2Vec(v3, v4) == False, \"Problem 1.1, Your code said that two linearly dependent vectors were independent\"\n",
    "assert Indy2Vec(v1, v3) == True, \"Problem 1.1, Your code said that two linearly independent vectors were dependent\"\n",
    "assert Indy2Vec(v2, v3) == True, \"Problem 1.1, Your code said that two linearly independent vectors were dependent\""
   ]
  },
  {
   "cell_type": "markdown",
   "metadata": {
    "deletable": false,
    "editable": false,
    "nbgrader": {
     "cell_type": "markdown",
     "checksum": "84622692aa3c3cb5a251f3b7d8c11016",
     "grade": false,
     "grade_id": "cell-d8dee39f31ad0c14",
     "locked": true,
     "schema_version": 3,
     "solution": false
    }
   },
   "source": [
    "<strong>1.2</strong> \\[2 pt\\] Impliment the function <strong>Indy2Vec</strong> that takes in three 3 dimentional vectors each represented as an array and returns <strong>True</strong> if the are linearly independent, and otherwise returns <strong>False</strong>."
   ]
  },
  {
   "cell_type": "code",
   "execution_count": 12,
   "metadata": {
    "deletable": false,
    "nbgrader": {
     "cell_type": "code",
     "checksum": "462648ea46b3dc7cb9cd97e1941f9800",
     "grade": false,
     "grade_id": "cell-9437cf7256c37d72",
     "locked": false,
     "schema_version": 3,
     "solution": true
    }
   },
   "outputs": [],
   "source": [
    "def Indy3Vec(v1, v2, v3):\n",
    "    new_arr = np.row_stack([v1,v2, v3])\n",
    "    u, s, v = linalg.svd(new_arr)\n",
    "    vals = np.round(s, 3)\n",
    "    for vec in vals:\n",
    "        if vec == 0:\n",
    "            return False\n",
    "    return True\n"
   ]
  },
  {
   "cell_type": "code",
   "execution_count": 13,
   "metadata": {
    "deletable": false,
    "editable": false,
    "nbgrader": {
     "cell_type": "code",
     "checksum": "e7aded5236bd06dfe7508ef7732cc4f7",
     "grade": true,
     "grade_id": "cell-158e70c4cabaca4d",
     "locked": true,
     "points": 2,
     "schema_version": 3,
     "solution": false
    }
   },
   "outputs": [],
   "source": [
    "v1=np.array([-1,3,4])\n",
    "v2=np.array([6,-2,9])\n",
    "v3=np.array([3,8,5]) \n",
    "\n",
    "assert Indy3Vec(v1, v2, v3) == True, \"Problem 1.2, Your code said that three linearly independent vectors were dependent\""
   ]
  },
  {
   "cell_type": "markdown",
   "metadata": {
    "deletable": false,
    "editable": false,
    "nbgrader": {
     "cell_type": "markdown",
     "checksum": "8ca33e93b018d591ade24b16d4a33398",
     "grade": false,
     "grade_id": "cell-ce5dcd32393db2e4",
     "locked": true,
     "schema_version": 3,
     "solution": false
    }
   },
   "source": [
    "<strong>1.3</strong> \\[1 pt\\] Impliment the function <strong>Indy4Vec</strong> that takes in four 3 dimentional vectors each represented as an array and tells whether they are linearly independent.\n",
    "\n",
    "Hint: This is a bit of a trick question."
   ]
  },
  {
   "cell_type": "code",
   "execution_count": 14,
   "metadata": {
    "deletable": false,
    "nbgrader": {
     "cell_type": "code",
     "checksum": "8968c0ae2b8b86de37944cc442adb08c",
     "grade": false,
     "grade_id": "cell-d68d4ff3c19a01a9",
     "locked": false,
     "schema_version": 3,
     "solution": true
    }
   },
   "outputs": [],
   "source": [
    "def Indy4Vec(v1, v2, v3, v4):\n",
    "    return False\n"
   ]
  },
  {
   "cell_type": "code",
   "execution_count": 15,
   "metadata": {
    "deletable": false,
    "editable": false,
    "nbgrader": {
     "cell_type": "code",
     "checksum": "bd8f74830e68d30cc83d9d6b1ee58e14",
     "grade": true,
     "grade_id": "cell-1b83b01be1cc2c58",
     "locked": true,
     "points": 1,
     "schema_version": 3,
     "solution": false
    }
   },
   "outputs": [],
   "source": [
    "v1=np.array([-1,3,4])\n",
    "v2=np.array([6,-2,9])\n",
    "v3=np.array([3,8,5])\n",
    "v4=np.array([5,6,7])\n",
    "\n",
    "\n",
    "assert Indy4Vec(v1, v2, v3, v4) == False, \"Problem 1.3, Your code said that four linearly dependent vectors were independent\""
   ]
  },
  {
   "cell_type": "markdown",
   "metadata": {
    "deletable": false,
    "editable": false,
    "nbgrader": {
     "cell_type": "markdown",
     "checksum": "e999783a79557c176d3313c3c79581f4",
     "grade": false,
     "grade_id": "cell-ce5dcd323933b2c5",
     "locked": true,
     "schema_version": 3,
     "solution": false
    }
   },
   "source": [
    "<strong>1.4</strong> \\[2 pt\\] Impliment the function <strong>ThreeVec</strong> that takes in three 3 dimentional vectors each represented as an array, creates a matrix from stacking the arrays vertically (each array is a row in a matrix), and returns a list in which:\n",
    "* the first element is the rank of the matrix, \n",
    "* the second element is the rank of its transpose, \n",
    "* the third element is its determinant, \n",
    "* the fourth element is the inverse if its inverse exists and is the string \"no inverse\" if it does not exist.\n",
    "\n",
    "\n",
    "\n"
   ]
  },
  {
   "cell_type": "code",
   "execution_count": 16,
   "metadata": {
    "deletable": false,
    "nbgrader": {
     "cell_type": "code",
     "checksum": "f30150c5bffe66c9ec0005c451874cb9",
     "grade": false,
     "grade_id": "cell-d68d4ff3c19a01b8",
     "locked": false,
     "schema_version": 3,
     "solution": true
    }
   },
   "outputs": [],
   "source": [
    "from numpy import linalg\n",
    "def ThreeVec(v1, v2, v3):\n",
    "    matrix = np.row_stack([v1, v2, v3])\n",
    "\n",
    "    rank = linalg.matrix_rank(matrix)\n",
    "    transpose = linalg.matrix_rank(matrix.T)\n",
    "    det = np.round(linalg.det(matrix), 2)\n",
    "    inverse = \"no inverse\" if det == 0 else linalg.inv(matrix)\n",
    "    return [rank, transpose, det, inverse]\n",
    "    \n"
   ]
  },
  {
   "cell_type": "code",
   "execution_count": 17,
   "metadata": {
    "deletable": false,
    "editable": false,
    "nbgrader": {
     "cell_type": "code",
     "checksum": "8ce375f5cd6c560acc3375f6ea502ddb",
     "grade": true,
     "grade_id": "cell-1b83b01be1cc2c59",
     "locked": true,
     "points": 2,
     "schema_version": 3,
     "solution": false
    }
   },
   "outputs": [],
   "source": [
    "v1=np.array([10,4.4,13])\n",
    "v2=np.array([-5,-3.1,4])\n",
    "v3=np.array([15,5.7,30])\n",
    "\n",
    "\n",
    "\n",
    "assert(ThreeVec(v1, v2, v3)[0:2] == [2, 2]), \"Problem 1.4, Your function does not compute the example correctly.\"\n",
    "assert(np.isclose(ThreeVec(v1, v2, v3)[2], 0)), \"Problem 1.4, Your function does not compute the example correctly.\"\n",
    "assert(ThreeVec(v1, v2, v3)[3] == \"no inverse\"), \"Problem 1.4, Your function does not compute the example correctly.\"\n",
    "\n",
    "\n",
    "\n",
    "\n",
    "\n",
    "\n",
    "\n"
   ]
  },
  {
   "cell_type": "markdown",
   "metadata": {
    "deletable": false,
    "editable": false,
    "nbgrader": {
     "cell_type": "markdown",
     "checksum": "a6bee549424a1a2158be06e0cb2babf4",
     "grade": false,
     "grade_id": "cell-491353b73a7996d6",
     "locked": true,
     "schema_version": 3,
     "solution": false
    }
   },
   "source": [
    "<strong>1.5</strong> [3 pt] Given a matrix $A$ (as an np.array), find a vector $v$ (as an np.array with \"shape\" $(3, )$) as follows: \n",
    "\n",
    "If $A$ it is bijective: find $v$ such that $Av=\\left(\\begin{array}{c} 1 \\\\ 2 \\\\ 1 \\end{array} \\right)$. \n",
    "\n",
    "If $A$ is surjective but not injective: find $v$ such that $Av= A\\left(\\begin{array}{c} 1 \\\\ 1 \\\\ 1 \\end{array} \\right)$ where $v$ does not equal $\\left(\\begin{array}{c} 1 \\\\ 1 \\\\ 1 \\end{array} \\right)$. \n",
    "\n",
    "If $A$ is injective but not  surjective: find $v$ such that its first two elements are 1 and $v$ is in the image of $A$.  In otherwords: $v = \\left(\\begin{array}{c} 1 \\\\ 1 \\\\ z \\end{array} \\right)$ and $v= Ax$ for some vector $x$.  Essentially, in this case you must solve for z.\n",
    "\n",
    "Note: For this problem $A$ will always be injective, surjective, or bijective\n",
    "\n"
   ]
  },
  {
   "cell_type": "markdown",
   "metadata": {
    "deletable": false,
    "editable": false,
    "nbgrader": {
     "cell_type": "markdown",
     "checksum": "703834a5496a90ffdeb4bec8bbbfb7f7",
     "grade": false,
     "grade_id": "cell-2e9331963645ff57",
     "locked": true,
     "schema_version": 3,
     "solution": false
    }
   },
   "source": [
    "(a) $A= \\left(\\begin{array}{ccc} 1 & 2 & 3 \\\\ 2 & 1 & 1 \\end{array} \\right)$"
   ]
  },
  {
   "cell_type": "code",
   "execution_count": 54,
   "metadata": {
    "deletable": false,
    "nbgrader": {
     "cell_type": "code",
     "checksum": "9e89bce58a56e3182f593359ffcdc6f4",
     "grade": false,
     "grade_id": "cell-8a68552e1d4594c1",
     "locked": false,
     "schema_version": 3,
     "solution": true
    }
   },
   "outputs": [],
   "source": [
    "from sympy import *\n",
    "A= np.array([[1,2,3],[2,1,1]])\n",
    "v=A/[1,2,3]\n"
   ]
  },
  {
   "cell_type": "code",
   "execution_count": 4,
   "metadata": {
    "deletable": false,
    "editable": false,
    "nbgrader": {
     "cell_type": "code",
     "checksum": "8f186cdbc93dff530df643aefc97aa39",
     "grade": true,
     "grade_id": "cell-47dbc27cae300c5c",
     "locked": true,
     "points": 1,
     "schema_version": 3,
     "solution": false
    }
   },
   "outputs": [],
   "source": [
    "#hidden tests for problem 1.5(a) are within this cell"
   ]
  },
  {
   "cell_type": "markdown",
   "metadata": {
    "deletable": false,
    "editable": false,
    "nbgrader": {
     "cell_type": "markdown",
     "checksum": "0568da9ad80378194aa11ea70e1b7c8f",
     "grade": false,
     "grade_id": "cell-dbab8340b38ab693",
     "locked": true,
     "schema_version": 3,
     "solution": false
    }
   },
   "source": [
    "(b) $A= \\left(\\begin{array}{cc} 1 & 2 \\\\ 3  & 4 \\\\ 10 & 6 \\end{array} \\right)$"
   ]
  },
  {
   "cell_type": "code",
   "execution_count": null,
   "metadata": {
    "deletable": false,
    "nbgrader": {
     "cell_type": "code",
     "checksum": "4cec2fdfc9bfbb8081aa9ff173cede53",
     "grade": false,
     "grade_id": "cell-37020c83f0c7c7fc",
     "locked": false,
     "schema_version": 3,
     "solution": true
    }
   },
   "outputs": [],
   "source": [
    "A = np.array([[1, 2], [3, 4], [10, 6]])\n",
    "v= None\n",
    "#YOUR CODE HERE\n",
    "\n",
    "# YOUR CODE HERE\n",
    "raise NotImplementedError()"
   ]
  },
  {
   "cell_type": "code",
   "execution_count": null,
   "metadata": {
    "deletable": false,
    "editable": false,
    "nbgrader": {
     "cell_type": "code",
     "checksum": "d9b073d418c476a9d2caeb2037175651",
     "grade": true,
     "grade_id": "cell-4249336ac3fddd7d",
     "locked": true,
     "points": 1,
     "schema_version": 3,
     "solution": false
    }
   },
   "outputs": [],
   "source": [
    "#hidden tests for problem 1.5(b) are within this cell"
   ]
  },
  {
   "cell_type": "markdown",
   "metadata": {
    "deletable": false,
    "editable": false,
    "nbgrader": {
     "cell_type": "markdown",
     "checksum": "a8420e17df18869ed0ab9c4472d6031f",
     "grade": false,
     "grade_id": "cell-2e36a7e831e2d0cc",
     "locked": true,
     "schema_version": 3,
     "solution": false
    }
   },
   "source": [
    "(c) $A= \\left(\\begin{array}{cc} 1 & 2 & 3 \\\\ 3  & 4 & 5\\\\ 4 & 10 & 6 \\end{array} \\right)$"
   ]
  },
  {
   "cell_type": "code",
   "execution_count": 35,
   "metadata": {
    "deletable": false,
    "nbgrader": {
     "cell_type": "code",
     "checksum": "1938dbba66cc185536d85aab0d5ade36",
     "grade": false,
     "grade_id": "cell-13a86a9d6fef18b1",
     "locked": false,
     "schema_version": 3,
     "solution": true
    }
   },
   "outputs": [],
   "source": [
    "A= np.array([[1,2,3],[3,4,5],[4,10,6]])\n",
    "mat, vals = Matrix(A).rref()\n",
    "v = vals"
   ]
  },
  {
   "cell_type": "code",
   "execution_count": null,
   "metadata": {
    "deletable": false,
    "editable": false,
    "nbgrader": {
     "cell_type": "code",
     "checksum": "598161a5d21d2fae9324f4bbae7f12d9",
     "grade": true,
     "grade_id": "cell-5a1038ca25889e0b",
     "locked": true,
     "points": 1,
     "schema_version": 3,
     "solution": false
    }
   },
   "outputs": [],
   "source": [
    "#hidden tests for problem 1.5(c) are within this cell"
   ]
  },
  {
   "cell_type": "markdown",
   "metadata": {
    "deletable": false,
    "editable": false,
    "nbgrader": {
     "cell_type": "markdown",
     "checksum": "acb8bec2a6962c7cdfd5ee13834af50a",
     "grade": false,
     "grade_id": "cell-3d39e13d4a7cc44b",
     "locked": true,
     "schema_version": 3,
     "solution": false
    }
   },
   "source": [
    "## Part 2: Eigenvalues/ Eigenvectors\n"
   ]
  },
  {
   "cell_type": "markdown",
   "metadata": {
    "deletable": false,
    "editable": false,
    "nbgrader": {
     "cell_type": "markdown",
     "checksum": "1408a1ba20f923e2bf1e86e3485371ed",
     "grade": false,
     "grade_id": "cell-40704c107a135552",
     "locked": true,
     "schema_version": 3,
     "solution": false
    }
   },
   "source": [
    "<strong>2.1</strong> \\[1 pt\\] What are the eigenvalue and eigenvectors of the matrix $A = \\left(\\begin{array}{cc} 1  & 3 \\\\ 2  & 5\\end{array} \\right)$? Please store the eigenvalues in the variable called <strong>vals</strong>. The datatype for vals should be a numpy array.\n",
    "\n"
   ]
  },
  {
   "cell_type": "code",
   "execution_count": 36,
   "metadata": {
    "deletable": false,
    "nbgrader": {
     "cell_type": "code",
     "checksum": "6345f58db88579b4ac20f4d9474f2392",
     "grade": false,
     "grade_id": "cell-571f59fab4ac61a1",
     "locked": false,
     "schema_version": 3,
     "solution": true
    }
   },
   "outputs": [],
   "source": [
    "from scipy import linalg\n",
    "A= np.array([[1,3],[2,5]])\n",
    "vals= linalg.eigvals(A)"
   ]
  },
  {
   "cell_type": "code",
   "execution_count": null,
   "metadata": {
    "deletable": false,
    "editable": false,
    "nbgrader": {
     "cell_type": "code",
     "checksum": "324c3e2101c4d4fecd90356690b0dac0",
     "grade": true,
     "grade_id": "cell-174c290441138ebc",
     "locked": true,
     "points": 1,
     "schema_version": 3,
     "solution": false
    }
   },
   "outputs": [],
   "source": [
    "#hidden tests for problem 2.1 are within this cell"
   ]
  },
  {
   "cell_type": "markdown",
   "metadata": {},
   "source": [
    "<strong>2.2</strong> \\[1 pt\\] What are the eigenvectors of the matrix $\\left(\\begin{array}{cc} 1  & 3 \\\\ 2  & 5\\end{array} \\right)$? Please store the eigenvectors in variables $v1$ and $v2$ as numpy arrays of shape (2,).\n",
    "\n"
   ]
  },
  {
   "cell_type": "code",
   "execution_count": 60,
   "metadata": {
    "deletable": false,
    "nbgrader": {
     "cell_type": "code",
     "checksum": "025bea56b5c4864d56246aa645d3ebbf",
     "grade": false,
     "grade_id": "cell-ae7fca74e80f42d3",
     "locked": false,
     "schema_version": 3,
     "solution": true
    }
   },
   "outputs": [
    {
     "data": {
      "text/plain": [
       "[(3 - sqrt(10),\n",
       "  1,\n",
       "  [Matrix([\n",
       "   [-sqrt(10)/2 - 1],\n",
       "   [              1]])]),\n",
       " (3 + sqrt(10),\n",
       "  1,\n",
       "  [Matrix([\n",
       "   [-1 + sqrt(10)/2],\n",
       "   [              1]])])]"
      ]
     },
     "execution_count": 60,
     "metadata": {},
     "output_type": "execute_result"
    }
   ],
   "source": [
    "A2= np.array([[1,3],[2,5]])\n",
    "# a2_vals, a2_vecs = linalg.eig(A2)\n",
    "# a2_vecs\n",
    "mat = Matrix(A2).eigenvects()\n",
    "v1=[-sqrt(10)/2 - 1, 1]\n",
    "v2=\n",
    "\n",
    "mat"
   ]
  },
  {
   "cell_type": "code",
   "execution_count": null,
   "metadata": {
    "deletable": false,
    "editable": false,
    "nbgrader": {
     "cell_type": "code",
     "checksum": "9ba0515a9e16e22610634c0621dcc84d",
     "grade": true,
     "grade_id": "cell-c9c31cdf9a7b77ad",
     "locked": true,
     "points": 1,
     "schema_version": 3,
     "solution": false
    }
   },
   "outputs": [],
   "source": [
    "#hidden tests for problem 2.2 are within this cell"
   ]
  },
  {
   "cell_type": "markdown",
   "metadata": {
    "deletable": false,
    "editable": false,
    "nbgrader": {
     "cell_type": "markdown",
     "checksum": "5cce1ea07d23c8321d6e79167e25f114",
     "grade": false,
     "grade_id": "cell-ce5dcd323933b2e5",
     "locked": true,
     "schema_version": 3,
     "solution": false
    }
   },
   "source": [
    "<strong>2.3</strong> \\[2 pt\\] Find a 2 x 2 matrix with integer entries that has 10 and 25 as eigenvalues with eigen vectors $(1, 4)$ and $(1, -1)$ respectively.  Record it as an array in <strong>ANS23</strong> with integer entries.  \n",
    "\n",
    "Hint: Put variables for entries in a 2 x 2 array $\\left(\\begin{array}{cc} a_{11}  & a_{12} \\\\ a_{21}  & a_{22} \\end{array} \\right)$, write out the equations that must be satisfied, and solve."
   ]
  },
  {
   "cell_type": "code",
   "execution_count": 41,
   "metadata": {
    "deletable": false,
    "nbgrader": {
     "cell_type": "code",
     "checksum": "1e8eb8b492349db1b2f39d845df39f29",
     "grade": false,
     "grade_id": "cell-d68d4ff3c19a01b7",
     "locked": false,
     "schema_version": 3,
     "solution": true
    }
   },
   "outputs": [],
   "source": [
    "eig_mat =[[1,1],[4,-1]]\n",
    "ints = np.diag([10,25])\n",
    "           \n",
    "ANS23 = eig_mat @ ints @ linalg.inv(eig_mat)\n",
    "\n",
    "#https://personal.math.ubc.ca/~pwalls/math-python/linear-algebra/eigenvalues-eigenvectors/#diagonalization"
   ]
  },
  {
   "cell_type": "code",
   "execution_count": 42,
   "metadata": {
    "deletable": false,
    "editable": false,
    "nbgrader": {
     "cell_type": "code",
     "checksum": "5a3d8beb668c2cce863f921ed996fdce",
     "grade": true,
     "grade_id": "cell-1b83b01be1cc2c69",
     "locked": true,
     "points": 2,
     "schema_version": 3,
     "solution": false
    }
   },
   "outputs": [],
   "source": [
    "assert type(ANS23) == np.ndarray, \"Problem 2.3, Your answer should be an array\"\n",
    "assert ANS23.shape == (2, 2), \"Problem 2.3, Your array should be dimension 2 x 2\"\n",
    "\n",
    "assert np.isclose(ANS23 @ np.array([1, 4]), np.array([10, 40])).all(), \"Problem 2.3, Your array should have [1, 4] as an eigenvector with eigenvalue 10\"\n",
    "\n",
    "\n",
    "\n"
   ]
  },
  {
   "cell_type": "markdown",
   "metadata": {
    "deletable": false,
    "editable": false,
    "nbgrader": {
     "cell_type": "markdown",
     "checksum": "7d38a2978c0af9d44503331f2d2eac25",
     "grade": false,
     "grade_id": "cell-e444000ecd9d564f",
     "locked": true,
     "schema_version": 3,
     "solution": false
    }
   },
   "source": [
    "2.4 [2 pt] Use the txt files loaded below to find the principal components of the Senate dataset (from around 2007) and to make a scatterplot with PC1 on the x-axis and PC2 on the y-axis (i.e. a senator's location on the scatterplot is his/her (PC1 loading, PC2 loading)), and where each senator's dot is the color of his political party. "
   ]
  },
  {
   "cell_type": "markdown",
   "metadata": {
    "deletable": false,
    "editable": false,
    "nbgrader": {
     "cell_type": "markdown",
     "checksum": "6685dbabb1b47b5cb7d185b567134055",
     "grade": false,
     "grade_id": "cell-9af0e99e0aef34e3",
     "locked": true,
     "schema_version": 3,
     "solution": false
    }
   },
   "source": [
    "Run the below lines of code to load and view snippets of txt files."
   ]
  },
  {
   "cell_type": "code",
   "execution_count": 19,
   "metadata": {
    "deletable": false,
    "editable": false,
    "nbgrader": {
     "cell_type": "code",
     "checksum": "81f2aa428d4744e728570c9b04f1ba54",
     "grade": false,
     "grade_id": "cell-a75b03836816e39c",
     "locked": true,
     "schema_version": 3,
     "solution": false
    }
   },
   "outputs": [
    {
     "data": {
      "text/html": [
       "<div>\n",
       "<style scoped>\n",
       "    .dataframe tbody tr th:only-of-type {\n",
       "        vertical-align: middle;\n",
       "    }\n",
       "\n",
       "    .dataframe tbody tr th {\n",
       "        vertical-align: top;\n",
       "    }\n",
       "\n",
       "    .dataframe thead th {\n",
       "        text-align: right;\n",
       "    }\n",
       "</style>\n",
       "<table border=\"1\" class=\"dataframe\">\n",
       "  <thead>\n",
       "    <tr style=\"text-align: right;\">\n",
       "      <th></th>\n",
       "      <th>-1</th>\n",
       "      <th>bill_type bill_name bill_ID</th>\n",
       "      <th>missing_votes</th>\n",
       "      <th>Arlen Specter (PA)</th>\n",
       "      <th>Barack H. Obama (IL)</th>\n",
       "      <th>BarbaraA Mikulski(MD)</th>\n",
       "      <th>BarbaraBoxer(CA)</th>\n",
       "      <th>Bill Nelson(FL)</th>\n",
       "      <th>BlancheL.Lincoln(AR)</th>\n",
       "      <th>ByronL.Dorgan(ND)</th>\n",
       "      <th>...</th>\n",
       "      <th>SusanM.Collins(ME)</th>\n",
       "      <th>TedStevens(AK)</th>\n",
       "      <th>ThadCochran(MS)</th>\n",
       "      <th>ThomasAllen'Tom'Coburn(OK)</th>\n",
       "      <th>ThomasRichardCarper(DE)</th>\n",
       "      <th>Thomas'Tom'Harkin(IA)</th>\n",
       "      <th>TimP.Johnson(SD)</th>\n",
       "      <th>TrentLott(MS)</th>\n",
       "      <th>WayneA.Allard(CO)</th>\n",
       "      <th>WilliamH.Frist(TN)</th>\n",
       "    </tr>\n",
       "  </thead>\n",
       "  <tbody>\n",
       "    <tr>\n",
       "      <th>0</th>\n",
       "      <td>0</td>\n",
       "      <td>Appropriations_Transit Security Amendment_3866</td>\n",
       "      <td>0.0</td>\n",
       "      <td>1.0</td>\n",
       "      <td>1.0</td>\n",
       "      <td>1.0</td>\n",
       "      <td>1.0</td>\n",
       "      <td>1.0</td>\n",
       "      <td>1.0</td>\n",
       "      <td>1.0</td>\n",
       "      <td>...</td>\n",
       "      <td>-1.0</td>\n",
       "      <td>-1.0</td>\n",
       "      <td>-1.0</td>\n",
       "      <td>-1.0</td>\n",
       "      <td>1.0</td>\n",
       "      <td>1.0</td>\n",
       "      <td>1.0</td>\n",
       "      <td>-1.0</td>\n",
       "      <td>-1.0</td>\n",
       "      <td>-1.0</td>\n",
       "    </tr>\n",
       "    <tr>\n",
       "      <th>1</th>\n",
       "      <td>1</td>\n",
       "      <td>Budget_Spending_and_Taxes_2007 Budget Resoluti...</td>\n",
       "      <td>0.0</td>\n",
       "      <td>1.0</td>\n",
       "      <td>-1.0</td>\n",
       "      <td>-1.0</td>\n",
       "      <td>-1.0</td>\n",
       "      <td>-1.0</td>\n",
       "      <td>-1.0</td>\n",
       "      <td>-1.0</td>\n",
       "      <td>...</td>\n",
       "      <td>-1.0</td>\n",
       "      <td>1.0</td>\n",
       "      <td>1.0</td>\n",
       "      <td>1.0</td>\n",
       "      <td>-1.0</td>\n",
       "      <td>-1.0</td>\n",
       "      <td>-1.0</td>\n",
       "      <td>1.0</td>\n",
       "      <td>1.0</td>\n",
       "      <td>1.0</td>\n",
       "    </tr>\n",
       "    <tr>\n",
       "      <th>2</th>\n",
       "      <td>2</td>\n",
       "      <td>\"Budget, Spending and Taxes_Debt Limit Increas...</td>\n",
       "      <td>0.0</td>\n",
       "      <td>1.0</td>\n",
       "      <td>-1.0</td>\n",
       "      <td>-1.0</td>\n",
       "      <td>-1.0</td>\n",
       "      <td>-1.0</td>\n",
       "      <td>-1.0</td>\n",
       "      <td>-1.0</td>\n",
       "      <td>...</td>\n",
       "      <td>1.0</td>\n",
       "      <td>1.0</td>\n",
       "      <td>1.0</td>\n",
       "      <td>-1.0</td>\n",
       "      <td>-1.0</td>\n",
       "      <td>-1.0</td>\n",
       "      <td>-1.0</td>\n",
       "      <td>1.0</td>\n",
       "      <td>1.0</td>\n",
       "      <td>1.0</td>\n",
       "    </tr>\n",
       "    <tr>\n",
       "      <th>3</th>\n",
       "      <td>3</td>\n",
       "      <td>Budget, Spending and Taxes_Education Funding A...</td>\n",
       "      <td>0.0</td>\n",
       "      <td>-1.0</td>\n",
       "      <td>1.0</td>\n",
       "      <td>1.0</td>\n",
       "      <td>1.0</td>\n",
       "      <td>1.0</td>\n",
       "      <td>1.0</td>\n",
       "      <td>1.0</td>\n",
       "      <td>...</td>\n",
       "      <td>1.0</td>\n",
       "      <td>-1.0</td>\n",
       "      <td>-1.0</td>\n",
       "      <td>-1.0</td>\n",
       "      <td>1.0</td>\n",
       "      <td>1.0</td>\n",
       "      <td>1.0</td>\n",
       "      <td>-1.0</td>\n",
       "      <td>-1.0</td>\n",
       "      <td>-1.0</td>\n",
       "    </tr>\n",
       "    <tr>\n",
       "      <th>4</th>\n",
       "      <td>4</td>\n",
       "      <td>Budget, Spending and Taxes_Reinstate Pay-As-Yo...</td>\n",
       "      <td>0.0</td>\n",
       "      <td>-1.0</td>\n",
       "      <td>1.0</td>\n",
       "      <td>1.0</td>\n",
       "      <td>1.0</td>\n",
       "      <td>1.0</td>\n",
       "      <td>1.0</td>\n",
       "      <td>1.0</td>\n",
       "      <td>...</td>\n",
       "      <td>1.0</td>\n",
       "      <td>-1.0</td>\n",
       "      <td>-1.0</td>\n",
       "      <td>-1.0</td>\n",
       "      <td>1.0</td>\n",
       "      <td>1.0</td>\n",
       "      <td>1.0</td>\n",
       "      <td>-1.0</td>\n",
       "      <td>-1.0</td>\n",
       "      <td>-1.0</td>\n",
       "    </tr>\n",
       "  </tbody>\n",
       "</table>\n",
       "<p>5 rows × 103 columns</p>\n",
       "</div>"
      ],
      "text/plain": [
       "   -1                        bill_type bill_name bill_ID   missing_votes  \\\n",
       "0   0     Appropriations_Transit Security Amendment_3866             0.0   \n",
       "1   1  Budget_Spending_and_Taxes_2007 Budget Resoluti...             0.0   \n",
       "2   2  \"Budget, Spending and Taxes_Debt Limit Increas...             0.0   \n",
       "3   3  Budget, Spending and Taxes_Education Funding A...             0.0   \n",
       "4   4  Budget, Spending and Taxes_Reinstate Pay-As-Yo...             0.0   \n",
       "\n",
       "    Arlen Specter (PA)   Barack H. Obama (IL)   BarbaraA Mikulski(MD)  \\\n",
       "0                  1.0                    1.0                     1.0   \n",
       "1                  1.0                   -1.0                    -1.0   \n",
       "2                  1.0                   -1.0                    -1.0   \n",
       "3                 -1.0                    1.0                     1.0   \n",
       "4                 -1.0                    1.0                     1.0   \n",
       "\n",
       "    BarbaraBoxer(CA)   Bill Nelson(FL)   BlancheL.Lincoln(AR)  \\\n",
       "0                1.0               1.0                    1.0   \n",
       "1               -1.0              -1.0                   -1.0   \n",
       "2               -1.0              -1.0                   -1.0   \n",
       "3                1.0               1.0                    1.0   \n",
       "4                1.0               1.0                    1.0   \n",
       "\n",
       "    ByronL.Dorgan(ND)  ...   SusanM.Collins(ME)   TedStevens(AK)  \\\n",
       "0                 1.0  ...                 -1.0             -1.0   \n",
       "1                -1.0  ...                 -1.0              1.0   \n",
       "2                -1.0  ...                  1.0              1.0   \n",
       "3                 1.0  ...                  1.0             -1.0   \n",
       "4                 1.0  ...                  1.0             -1.0   \n",
       "\n",
       "    ThadCochran(MS)   ThomasAllen'Tom'Coburn(OK)   ThomasRichardCarper(DE)  \\\n",
       "0              -1.0                         -1.0                       1.0   \n",
       "1               1.0                          1.0                      -1.0   \n",
       "2               1.0                         -1.0                      -1.0   \n",
       "3              -1.0                         -1.0                       1.0   \n",
       "4              -1.0                         -1.0                       1.0   \n",
       "\n",
       "    Thomas'Tom'Harkin(IA)   TimP.Johnson(SD)   TrentLott(MS)  \\\n",
       "0                     1.0                1.0            -1.0   \n",
       "1                    -1.0               -1.0             1.0   \n",
       "2                    -1.0               -1.0             1.0   \n",
       "3                     1.0                1.0            -1.0   \n",
       "4                     1.0                1.0            -1.0   \n",
       "\n",
       "    WayneA.Allard(CO)   WilliamH.Frist(TN)  \n",
       "0                -1.0                 -1.0  \n",
       "1                 1.0                  1.0  \n",
       "2                 1.0                  1.0  \n",
       "3                -1.0                 -1.0  \n",
       "4                -1.0                 -1.0  \n",
       "\n",
       "[5 rows x 103 columns]"
      ]
     },
     "execution_count": 19,
     "metadata": {},
     "output_type": "execute_result"
    }
   ],
   "source": [
    "Senate = pd.read_csv('assets/senate.txt')\n",
    "\n",
    "Senate.head()\n",
    "\n"
   ]
  },
  {
   "cell_type": "code",
   "execution_count": 20,
   "metadata": {
    "deletable": false,
    "editable": false,
    "nbgrader": {
     "cell_type": "code",
     "checksum": "fe498838c2ffecd629395a9ba1affc27",
     "grade": false,
     "grade_id": "cell-fd752ad1e20fa533",
     "locked": true,
     "schema_version": 3,
     "solution": false
    }
   },
   "outputs": [
    {
     "data": {
      "text/html": [
       "<div>\n",
       "<style scoped>\n",
       "    .dataframe tbody tr th:only-of-type {\n",
       "        vertical-align: middle;\n",
       "    }\n",
       "\n",
       "    .dataframe tbody tr th {\n",
       "        vertical-align: top;\n",
       "    }\n",
       "\n",
       "    .dataframe thead th {\n",
       "        text-align: right;\n",
       "    }\n",
       "</style>\n",
       "<table border=\"1\" class=\"dataframe\">\n",
       "  <thead>\n",
       "    <tr style=\"text-align: right;\">\n",
       "      <th></th>\n",
       "      <th>Name</th>\n",
       "      <th>Color</th>\n",
       "    </tr>\n",
       "  </thead>\n",
       "  <tbody>\n",
       "    <tr>\n",
       "      <th>0</th>\n",
       "      <td>Specter</td>\n",
       "      <td>Red</td>\n",
       "    </tr>\n",
       "    <tr>\n",
       "      <th>1</th>\n",
       "      <td>Obama</td>\n",
       "      <td>Blue</td>\n",
       "    </tr>\n",
       "    <tr>\n",
       "      <th>2</th>\n",
       "      <td>Mikulski</td>\n",
       "      <td>Blue</td>\n",
       "    </tr>\n",
       "    <tr>\n",
       "      <th>3</th>\n",
       "      <td>Boxer</td>\n",
       "      <td>Blue</td>\n",
       "    </tr>\n",
       "    <tr>\n",
       "      <th>4</th>\n",
       "      <td>Nelson</td>\n",
       "      <td>Blue</td>\n",
       "    </tr>\n",
       "  </tbody>\n",
       "</table>\n",
       "</div>"
      ],
      "text/plain": [
       "       Name Color\n",
       "0   Specter   Red\n",
       "1     Obama  Blue\n",
       "2  Mikulski  Blue\n",
       "3     Boxer  Blue\n",
       "4    Nelson  Blue"
      ]
     },
     "execution_count": 20,
     "metadata": {},
     "output_type": "execute_result"
    }
   ],
   "source": [
    "RB = pd.read_csv('assets/red_blue.txt', ' ')\n",
    "\n",
    "RB.head()"
   ]
  },
  {
   "cell_type": "code",
   "execution_count": 16,
   "metadata": {
    "deletable": false,
    "nbgrader": {
     "cell_type": "code",
     "checksum": "829da9f0b862cff9e7ac96689b71b074",
     "grade": false,
     "grade_id": "cell-7083c1546fc06d26",
     "locked": false,
     "schema_version": 3,
     "solution": true
    }
   },
   "outputs": [
    {
     "ename": "NameError",
     "evalue": "name 'Senate' is not defined",
     "output_type": "error",
     "traceback": [
      "\u001b[0;31m---------------------------------------------------------------------------\u001b[0m",
      "\u001b[0;31mNameError\u001b[0m                                 Traceback (most recent call last)",
      "Input \u001b[0;32mIn [16]\u001b[0m, in \u001b[0;36m<cell line: 2>\u001b[0;34m()\u001b[0m\n\u001b[1;32m      1\u001b[0m \u001b[38;5;66;03m#Use \"iloc\" to remove the first three columns from the Senate dataset\u001b[39;00m\n\u001b[0;32m----> 2\u001b[0m Senate1\u001b[38;5;241m=\u001b[39m \u001b[43mSenate\u001b[49m\u001b[38;5;241m.\u001b[39miloc[:,\u001b[38;5;241m3\u001b[39m: ]\u001b[38;5;241m.\u001b[39mvalues\n\u001b[1;32m      4\u001b[0m \u001b[38;5;66;03m#Use the sklearn \"StandardScaler\" package and its fit_transform method to standardize Senate1\u001b[39;00m\n\u001b[1;32m      5\u001b[0m Senate2\u001b[38;5;241m=\u001b[39m StandardScaler()\u001b[38;5;241m.\u001b[39mfit_transform(Senate1)\n",
      "\u001b[0;31mNameError\u001b[0m: name 'Senate' is not defined"
     ]
    }
   ],
   "source": [
    "#Use \"iloc\" to remove the first three columns from the Senate dataset\n",
    "Senate1= Senate.iloc[:,3: ].values\n",
    "\n",
    "#Use the sklearn \"StandardScaler\" package and its fit_transform method to standardize Senate1\n",
    "Senate2= StandardScaler().fit_transform(Senate1)\n",
    "\n",
    "#Use the sklearn \"PCA\" package to define a PCA model (\"pca_senators\") which will keep the first five eigenvalues and eigenvectors. \n",
    "#Then define an object (\"results_senators\") by applying the pca_senators model to the Senate2 dataset using the fit method. \n",
    "pca_senators= PCA(n_components=5)\n",
    "results_senators= pca_senators.fit(Senate2)\n",
    "\n",
    "#Finally, define eig_vals and eig_vecs by accessing the attributes of the results_senators object\n",
    "eig_vals= results_senators.explained_variance_\n",
    "eig_vecs= results_senators.components_\n"
   ]
  },
  {
   "cell_type": "code",
   "execution_count": 17,
   "metadata": {
    "deletable": false,
    "editable": false,
    "nbgrader": {
     "cell_type": "code",
     "checksum": "81c5d76f26c1946209666204afbcaae4",
     "grade": true,
     "grade_id": "cell-7fdaebc51aded0de",
     "locked": true,
     "points": 2,
     "schema_version": 3,
     "solution": false
    }
   },
   "outputs": [],
   "source": [
    "#hidden tests for problem 2.4 are within this cell"
   ]
  },
  {
   "cell_type": "code",
   "execution_count": 18,
   "metadata": {
    "deletable": false,
    "editable": false,
    "nbgrader": {
     "cell_type": "code",
     "checksum": "ca3fba506538b1489ef0279c2d697fda",
     "grade": false,
     "grade_id": "cell-b834e91d7d38a605",
     "locked": true,
     "schema_version": 3,
     "solution": false
    }
   },
   "outputs": [
    {
     "ename": "NameError",
     "evalue": "name 'results_senators' is not defined",
     "output_type": "error",
     "traceback": [
      "\u001b[0;31m---------------------------------------------------------------------------\u001b[0m",
      "\u001b[0;31mNameError\u001b[0m                                 Traceback (most recent call last)",
      "Input \u001b[0;32mIn [18]\u001b[0m, in \u001b[0;36m<cell line: 2>\u001b[0;34m()\u001b[0m\n\u001b[1;32m      1\u001b[0m \u001b[38;5;66;03m#run this cell to make a scatter plot using your results\u001b[39;00m\n\u001b[0;32m----> 2\u001b[0m plt\u001b[38;5;241m.\u001b[39mscatter(\u001b[43mresults_senators\u001b[49m\u001b[38;5;241m.\u001b[39mcomponents_[\u001b[38;5;241m0\u001b[39m], results_senators\u001b[38;5;241m.\u001b[39mcomponents_[\u001b[38;5;241m1\u001b[39m], c\u001b[38;5;241m=\u001b[39mRB[\u001b[38;5;124m'\u001b[39m\u001b[38;5;124mColor\u001b[39m\u001b[38;5;124m'\u001b[39m])\n\u001b[1;32m      3\u001b[0m plt\u001b[38;5;241m.\u001b[39mxlabel(\u001b[38;5;124m\"\u001b[39m\u001b[38;5;124mPC1\u001b[39m\u001b[38;5;124m\"\u001b[39m)\n\u001b[1;32m      4\u001b[0m plt\u001b[38;5;241m.\u001b[39mylabel(\u001b[38;5;124m\"\u001b[39m\u001b[38;5;124mPC2\u001b[39m\u001b[38;5;124m\"\u001b[39m)\n",
      "\u001b[0;31mNameError\u001b[0m: name 'results_senators' is not defined"
     ]
    }
   ],
   "source": [
    "#run this cell to make a scatter plot using your results\n",
    "plt.scatter(results_senators.components_[0], results_senators.components_[1], c=RB['Color'])\n",
    "plt.xlabel(\"PC1\")\n",
    "plt.ylabel(\"PC2\")\n",
    "plt.annotate(\"Nelson\\n (NE)\", (-0.0155, -0.12))\n",
    "plt.annotate(\"McConnell\\n (KY)\", (-0.19, -0.085))\n",
    "plt.annotate(\"Chafee\\n (RI)\", (0.024, -0.132))\n",
    "plt.annotate(\"Obama\\n (IL)\", (0.107, -0.05))\n",
    "plt.annotate(\"Menedez\\n (NJ)\", (0.008, -0.015))\n",
    "plt.annotate(\"Collins\\n (ME)\", (-0.03, -0.133))\n",
    "plt.annotate(\"Clinton\\n (NY)\", (0.15, -0.08))\n",
    "plt.annotate(\"McCain\\n (AZ)\", (-0.07, -0.06))\n",
    "plt.arrow(0.15,-0.08,-0.05,-0.02)\n",
    "plt.xlim(-0.2, 0.2)\n",
    "plt.show()"
   ]
  },
  {
   "cell_type": "markdown",
   "metadata": {
    "deletable": false,
    "editable": false,
    "nbgrader": {
     "cell_type": "markdown",
     "checksum": "baa173f91504a40c93a7655ef9a905d3",
     "grade": false,
     "grade_id": "cell-9cd4e8d2f225fafd",
     "locked": true,
     "schema_version": 3,
     "solution": false
    }
   },
   "source": [
    "## Part 3: Composition \n"
   ]
  },
  {
   "cell_type": "markdown",
   "metadata": {
    "deletable": false,
    "editable": false,
    "nbgrader": {
     "cell_type": "markdown",
     "checksum": "0e43c41747e0cfca0c2f56d736243972",
     "grade": false,
     "grade_id": "cell-f0196a1e1ab90e75",
     "locked": true,
     "schema_version": 3,
     "solution": false
    }
   },
   "source": [
    "<strong>3.1</strong> \\[1 pt\\] Assume $f(x)= 3x+6$ and $g(y)= 2y+1$, what is the reduced equation of $h(x)=g \\circ f(x)=g(f(x))$? Store your answer in the variable <strong>compo</strong> as a string type that is a valid python formula.  For example, \"5 * x ** 2 + 4\".  Note that neither \"5 x ** 2 + 4\" nor \"\"5 * x ^ 2 + 4\" are valid python formulas."
   ]
  },
  {
   "cell_type": "code",
   "execution_count": 21,
   "metadata": {
    "deletable": false,
    "nbgrader": {
     "cell_type": "code",
     "checksum": "216a61b0d4d2634928a988b3dd04004b",
     "grade": false,
     "grade_id": "cell-81395b5bd2a197fb",
     "locked": false,
     "schema_version": 3,
     "solution": true
    }
   },
   "outputs": [],
   "source": [
    "compo='6*x+13'\n"
   ]
  },
  {
   "cell_type": "code",
   "execution_count": 10,
   "metadata": {
    "deletable": false,
    "editable": false,
    "nbgrader": {
     "cell_type": "code",
     "checksum": "ab1988a91ec4eb69484250d75267e0bd",
     "grade": true,
     "grade_id": "cell-f797c1459bf93874",
     "locked": true,
     "points": 1,
     "schema_version": 3,
     "solution": false
    }
   },
   "outputs": [],
   "source": [
    "assert type(compo) == str, \"Problem 3.1, testing compo, type of value stored in variable does not match the expected type. Expecting String.\""
   ]
  },
  {
   "cell_type": "markdown",
   "metadata": {
    "deletable": false,
    "editable": false,
    "nbgrader": {
     "cell_type": "markdown",
     "checksum": "81500b9d6c2a6f4024c7bc2ced1d791f",
     "grade": false,
     "grade_id": "cell-96318587904ad09d",
     "locked": true,
     "schema_version": 3,
     "solution": false
    }
   },
   "source": [
    "<strong>3.2</strong> \\[1 pt\\] Given x = 1, use the equation assigned to compo to solve. Store your answer in the variable <strong>compo1</strong> as an integer. "
   ]
  },
  {
   "cell_type": "code",
   "execution_count": 36,
   "metadata": {
    "deletable": false,
    "nbgrader": {
     "cell_type": "code",
     "checksum": "ecd82c5ea467a83ea08fb1821be447c1",
     "grade": false,
     "grade_id": "cell-beb471e3c613b1ec",
     "locked": false,
     "schema_version": 3,
     "solution": true
    }
   },
   "outputs": [],
   "source": [
    "compo1=6*1+13"
   ]
  },
  {
   "cell_type": "code",
   "execution_count": 13,
   "metadata": {
    "deletable": false,
    "editable": false,
    "nbgrader": {
     "cell_type": "code",
     "checksum": "03b56d9f1f4e4da15b52e07523d43748",
     "grade": true,
     "grade_id": "cell-850259d8a0f763ca",
     "locked": true,
     "points": 1,
     "schema_version": 3,
     "solution": false
    }
   },
   "outputs": [],
   "source": [
    "import numbers\n",
    "assert isinstance(compo1, numbers.Number), \"Problem 3.2, testing compo1, type of value stored in variable does not match the expected type. Expecting Integer.\""
   ]
  },
  {
   "cell_type": "code",
   "execution_count": null,
   "metadata": {},
   "outputs": [],
   "source": []
  }
 ],
 "metadata": {
  "coursera": {
   "schema_names": [
    "mads_math_methods_for_data_science_v5_assignment2"
   ]
  },
  "kernelspec": {
   "display_name": "Python 3.10.6 64-bit",
   "language": "python",
   "name": "python3"
  },
  "language_info": {
   "codemirror_mode": {
    "name": "ipython",
    "version": 3
   },
   "file_extension": ".py",
   "mimetype": "text/x-python",
   "name": "python",
   "nbconvert_exporter": "python",
   "pygments_lexer": "ipython3",
   "version": "3.10.6"
  },
  "vscode": {
   "interpreter": {
    "hash": "b0fa6594d8f4cbf19f97940f81e996739fb7646882a419484c72d19e05852a7e"
   }
  }
 },
 "nbformat": 4,
 "nbformat_minor": 2
}
